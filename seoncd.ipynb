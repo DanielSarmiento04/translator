{
 "cells": [
  {
   "cell_type": "code",
   "execution_count": 1,
   "metadata": {},
   "outputs": [],
   "source": [
    "import pandas as pd\n",
    "import polars as pl\n",
    "import numpy as np\n",
    "import pyarrow as pa"
   ]
  },
  {
   "cell_type": "code",
   "execution_count": 1,
   "metadata": {},
   "outputs": [
    {
     "data": {
      "text/plain": [
       "'\\n    Read the es-en.txt, this is a database English-Spanish from  https://europat.net\\n    the file has a huge size, so we will use polars to read it.    \\n'"
      ]
     },
     "execution_count": 1,
     "metadata": {},
     "output_type": "execute_result"
    }
   ],
   "source": [
    "\"\"\"\n",
    "    Read the es-en.txt, this is a database English-Spanish from  https://europat.net\n",
    "    the file has a huge size, so we will use polars to read it.    \n",
    "\"\"\""
   ]
  },
  {
   "cell_type": "code",
   "execution_count": 2,
   "metadata": {},
   "outputs": [],
   "source": [
    "# for i in range(10):\n",
    "#     # read 1 million rows for each iteration\n",
    "#     df = pl.read_csv('es-en.txt', sep='\\t', n_rows=1_000_000)\n",
    "#     # save the data in parquet format\n",
    "#     df.to\n",
    "df = pl.read_csv('es-en.txt', sep='\\t', n_rows=1_000_000)"
   ]
  },
  {
   "cell_type": "code",
   "execution_count": 5,
   "metadata": {},
   "outputs": [
    {
     "data": {
      "text/plain": [
       "<xlsxwriter.workbook.Workbook at 0x14fa49660>"
      ]
     },
     "execution_count": 5,
     "metadata": {},
     "output_type": "execute_result"
    }
   ],
   "source": [
    "# write to excel\n",
    "df.write_excel('es-en.xlsx')"
   ]
  },
  {
   "cell_type": "code",
   "execution_count": 7,
   "metadata": {},
   "outputs": [
    {
     "name": "stderr",
     "output_type": "stream",
     "text": [
      "/var/folders/xd/jh3d4d1d1rd5jck45lvbs1900000gp/T/ipykernel_5065/233312784.py:1: DeprecationWarning: `sep` is deprecated as an argument to `write_csv`; use `separator` instead.\n",
      "  df.write_csv('es-en_1.txt', sep='\\t')\n"
     ]
    }
   ],
   "source": [
    "df.write_csv('es-en_1.txt', sep='\\t')"
   ]
  },
  {
   "cell_type": "code",
   "execution_count": 5,
   "metadata": {},
   "outputs": [],
   "source": [
    "df.write_parquet('es-en.parquet')"
   ]
  },
  {
   "cell_type": "code",
   "execution_count": 4,
   "metadata": {},
   "outputs": [
    {
     "data": {
      "text/html": [
       "<div><style>\n",
       ".dataframe > thead > tr > th,\n",
       ".dataframe > tbody > tr > td {\n",
       "  text-align: right;\n",
       "}\n",
       "</style>\n",
       "<small>shape: (5, 2)</small><table border=\"1\" class=\"dataframe\"><thead><tr><th>Suponiendo en el primer caso que la búsqueda de intermediario no se activara, es decir que la trama es una trama de datos pura.</th><th>Let's assume in the first case that the proxy search is not triggered, i.e. that the frame is a pure data frame.</th></tr><tr><td>str</td><td>str</td></tr></thead><tbody><tr><td>&quot;El contenido d...</td><td>&quot;The styrene co...</td></tr><tr><td>&quot;Dispositivo de...</td><td>&quot;Adaptable supp...</td></tr><tr><td>&quot;1, un sistema ...</td><td>&quot;1, a communica...</td></tr><tr><td>&quot;La inmunotrans...</td><td>&quot;Immunoblotting...</td></tr><tr><td>&quot;Análisis estad...</td><td>&quot;Statistical an...</td></tr></tbody></table></div>"
      ],
      "text/plain": [
       "shape: (5, 2)\n",
       "┌───────────────────────────────────┬───────────────────────────────────┐\n",
       "│ Suponiendo en el primer caso que… ┆ Let's assume in the first case t… │\n",
       "│ ---                               ┆ ---                               │\n",
       "│ str                               ┆ str                               │\n",
       "╞═══════════════════════════════════╪═══════════════════════════════════╡\n",
       "│ El contenido de estireno del ela… ┆ The styrene content of the non-h… │\n",
       "│ Dispositivo de soporte adaptable… ┆ Adaptable supporting device acco… │\n",
       "│ 1, un sistema decomunicaciones 1… ┆ 1, a communications system 1 for… │\n",
       "│ La inmunotransferencia se realiz… ┆ Immunoblotting was done with pol… │\n",
       "│ Análisis estadístico Todos los d… ┆ Statistical analysis All data ar… │\n",
       "└───────────────────────────────────┴───────────────────────────────────┘"
      ]
     },
     "execution_count": 4,
     "metadata": {},
     "output_type": "execute_result"
    }
   ],
   "source": [
    "df.head()"
   ]
  }
 ],
 "metadata": {
  "kernelspec": {
   "display_name": "translator",
   "language": "python",
   "name": "python3"
  },
  "language_info": {
   "codemirror_mode": {
    "name": "ipython",
    "version": 3
   },
   "file_extension": ".py",
   "mimetype": "text/x-python",
   "name": "python",
   "nbconvert_exporter": "python",
   "pygments_lexer": "ipython3",
   "version": "3.10.9"
  },
  "orig_nbformat": 4
 },
 "nbformat": 4,
 "nbformat_minor": 2
}
