{
 "cells": [
  {
   "cell_type": "code",
   "execution_count": 72,
   "metadata": {},
   "outputs": [],
   "source": [
    "import requests\n",
    "from zipfile import ZipFile\n",
    "import pandas as pd\n",
    "import polars as pl\n",
    "import numpy as np\n",
    "import pyarrow as pa"
   ]
  },
  {
   "cell_type": "code",
   "execution_count": 73,
   "metadata": {},
   "outputs": [
    {
     "data": {
      "text/plain": [
       "'\\n    Read the es-en.txt, this is a database English-Spanish from  https://europat.net\\n    the file has a huge size, so we will use polars to read it.    \\n'"
      ]
     },
     "execution_count": 73,
     "metadata": {},
     "output_type": "execute_result"
    }
   ],
   "source": [
    "\"\"\"\n",
    "    Read the es-en.txt, this is a database English-Spanish from  https://europat.net\n",
    "    the file has a huge size, so we will use polars to read it.    \n",
    "\"\"\""
   ]
  },
  {
   "cell_type": "code",
   "execution_count": 74,
   "metadata": {},
   "outputs": [],
   "source": [
    "df_euro_pat = pl.read_csv('es-en.txt', sep='\\t', n_rows=1_000_000)"
   ]
  },
  {
   "cell_type": "code",
   "execution_count": 75,
   "metadata": {},
   "outputs": [],
   "source": [
    "df_euro_pat.columns = ['spa', 'eng']"
   ]
  },
  {
   "cell_type": "code",
   "execution_count": 76,
   "metadata": {},
   "outputs": [
    {
     "data": {
      "text/html": [
       "<div><style>\n",
       ".dataframe > thead > tr > th,\n",
       ".dataframe > tbody > tr > td {\n",
       "  text-align: right;\n",
       "}\n",
       "</style>\n",
       "<small>shape: (5, 2)</small><table border=\"1\" class=\"dataframe\"><thead><tr><th>spa</th><th>eng</th></tr><tr><td>str</td><td>str</td></tr></thead><tbody><tr><td>&quot;The styrene co...</td><td>&quot;El contenido d...</td></tr><tr><td>&quot;Adaptable supp...</td><td>&quot;Dispositivo de...</td></tr><tr><td>&quot;1, a communica...</td><td>&quot;1, un sistema ...</td></tr><tr><td>&quot;Immunoblotting...</td><td>&quot;La inmunotrans...</td></tr><tr><td>&quot;Statistical an...</td><td>&quot;Análisis estad...</td></tr></tbody></table></div>"
      ],
      "text/plain": [
       "shape: (5, 2)\n",
       "┌───────────────────────────────────┬───────────────────────────────────┐\n",
       "│ spa                               ┆ eng                               │\n",
       "│ ---                               ┆ ---                               │\n",
       "│ str                               ┆ str                               │\n",
       "╞═══════════════════════════════════╪═══════════════════════════════════╡\n",
       "│ The styrene content of the non-h… ┆ El contenido de estireno del ela… │\n",
       "│ Adaptable supporting device acco… ┆ Dispositivo de soporte adaptable… │\n",
       "│ 1, a communications system 1 for… ┆ 1, un sistema decomunicaciones 1… │\n",
       "│ Immunoblotting was done with pol… ┆ La inmunotransferencia se realiz… │\n",
       "│ Statistical analysis All data ar… ┆ Análisis estadístico Todos los d… │\n",
       "└───────────────────────────────────┴───────────────────────────────────┘"
      ]
     },
     "execution_count": 76,
     "metadata": {},
     "output_type": "execute_result"
    }
   ],
   "source": [
    "# move eng->spa and spa->eng\n",
    "df_euro_pat = df_euro_pat.with_columns([pl.col('spa').alias('eng'), pl.col('eng').alias('spa')])\n",
    "df_euro_pat.head()"
   ]
  },
  {
   "cell_type": "code",
   "execution_count": 77,
   "metadata": {},
   "outputs": [
    {
     "data": {
      "text/html": [
       "<div><style>\n",
       ".dataframe > thead > tr > th,\n",
       ".dataframe > tbody > tr > td {\n",
       "  text-align: right;\n",
       "}\n",
       "</style>\n",
       "<small>shape: (5, 2)</small><table border=\"1\" class=\"dataframe\"><thead><tr><th>eng</th><th>spa</th></tr><tr><td>str</td><td>str</td></tr></thead><tbody><tr><td>&quot;The styrene co...</td><td>&quot;El contenido d...</td></tr><tr><td>&quot;Adaptable supp...</td><td>&quot;Dispositivo de...</td></tr><tr><td>&quot;1, a communica...</td><td>&quot;1, un sistema ...</td></tr><tr><td>&quot;Immunoblotting...</td><td>&quot;La inmunotrans...</td></tr><tr><td>&quot;Statistical an...</td><td>&quot;Análisis estad...</td></tr></tbody></table></div>"
      ],
      "text/plain": [
       "shape: (5, 2)\n",
       "┌───────────────────────────────────┬───────────────────────────────────┐\n",
       "│ eng                               ┆ spa                               │\n",
       "│ ---                               ┆ ---                               │\n",
       "│ str                               ┆ str                               │\n",
       "╞═══════════════════════════════════╪═══════════════════════════════════╡\n",
       "│ The styrene content of the non-h… ┆ El contenido de estireno del ela… │\n",
       "│ Adaptable supporting device acco… ┆ Dispositivo de soporte adaptable… │\n",
       "│ 1, a communications system 1 for… ┆ 1, un sistema decomunicaciones 1… │\n",
       "│ Immunoblotting was done with pol… ┆ La inmunotransferencia se realiz… │\n",
       "│ Statistical analysis All data ar… ┆ Análisis estadístico Todos los d… │\n",
       "└───────────────────────────────────┴───────────────────────────────────┘"
      ]
     },
     "execution_count": 77,
     "metadata": {},
     "output_type": "execute_result"
    }
   ],
   "source": [
    "df_euro_pat.columns = [\"eng\", \"spa\"]\n",
    "df_euro_pat.head()"
   ]
  },
  {
   "cell_type": "code",
   "execution_count": 78,
   "metadata": {},
   "outputs": [
    {
     "data": {
      "text/html": [
       "<div><style>\n",
       ".dataframe > thead > tr > th,\n",
       ".dataframe > tbody > tr > td {\n",
       "  text-align: right;\n",
       "}\n",
       "</style>\n",
       "<small>shape: (7, 3)</small><table border=\"1\" class=\"dataframe\"><thead><tr><th>describe</th><th>eng</th><th>spa</th></tr><tr><td>str</td><td>str</td><td>str</td></tr></thead><tbody><tr><td>&quot;count&quot;</td><td>&quot;1000000&quot;</td><td>&quot;1000000&quot;</td></tr><tr><td>&quot;null_count&quot;</td><td>&quot;0&quot;</td><td>&quot;0&quot;</td></tr><tr><td>&quot;mean&quot;</td><td>null</td><td>null</td></tr><tr><td>&quot;std&quot;</td><td>null</td><td>null</td></tr><tr><td>&quot;min&quot;</td><td>&quot;&quot; Alkanyl &quot; by...</td><td>&quot;! 20-80 % de a...</td></tr><tr><td>&quot;max&quot;</td><td>&quot;〈Second Embodi...</td><td>&quot;◦ calcular una...</td></tr><tr><td>&quot;median&quot;</td><td>null</td><td>null</td></tr></tbody></table></div>"
      ],
      "text/plain": [
       "shape: (7, 3)\n",
       "┌────────────┬─────────────────────────────────────┬───────────────────────────────────┐\n",
       "│ describe   ┆ eng                                 ┆ spa                               │\n",
       "│ ---        ┆ ---                                 ┆ ---                               │\n",
       "│ str        ┆ str                                 ┆ str                               │\n",
       "╞════════════╪═════════════════════════════════════╪═══════════════════════════════════╡\n",
       "│ count      ┆ 1000000                             ┆ 1000000                           │\n",
       "│ null_count ┆ 0                                   ┆ 0                                 │\n",
       "│ mean       ┆ null                                ┆ null                              │\n",
       "│ std        ┆ null                                ┆ null                              │\n",
       "│ min        ┆ \" Alkanyl \" by itself or as part…   ┆ ! 20-80 % de agua en peso (% bas… │\n",
       "│ max        ┆ 〈Second Embodiment〉 Fig. 5 is a … ┆ ◦ calcular una velocidad del rob… │\n",
       "│ median     ┆ null                                ┆ null                              │\n",
       "└────────────┴─────────────────────────────────────┴───────────────────────────────────┘"
      ]
     },
     "execution_count": 78,
     "metadata": {},
     "output_type": "execute_result"
    }
   ],
   "source": [
    "df_euro_pat.describe()"
   ]
  },
  {
   "cell_type": "code",
   "execution_count": 79,
   "metadata": {},
   "outputs": [],
   "source": [
    "df_euro_pat.write_parquet('es-en.parquet')"
   ]
  },
  {
   "cell_type": "code",
   "execution_count": 80,
   "metadata": {},
   "outputs": [],
   "source": [
    "df_euro_pat.write_csv('es-en_1.txt', separator='\\t')"
   ]
  },
  {
   "cell_type": "code",
   "execution_count": 81,
   "metadata": {},
   "outputs": [],
   "source": [
    "file_name = \"spa-eng.zip\"\n",
    "\n",
    "url = f'https://www.manythings.org/anki/{file_name}'\n",
    "headers = {'User-Agent': 'Mozilla/5.0 (Macintosh; Intel Mac OS X 10_10_1) AppleWebKit/537.36 (KHTML, like Gecko) Chrome/39.0.2171.95 Safari/537.36'}\n",
    "\n",
    "r = requests.get(url, headers=headers)\n",
    "# save the file:\n",
    "with open(file_name, 'wb') as file:\n",
    "    file.write(r.content)\n",
    "    \n",
    "with ZipFile(file_name) as zip_file:\n",
    "    zip_file.extractall(\"./spa-eng\")\n",
    "\n",
    "df_many_things = pd.read_csv('spa-eng/spa.txt', sep='\\t', header=None)\n",
    "df_many_things.columns = ['eng', 'spa', 'ignore']\n",
    "df_many_things = df_many_things[['eng', 'spa']]\n",
    "df_many_things.to_csv('spa-eng/spa.txt', sep='\\t', index=False)"
   ]
  },
  {
   "cell_type": "code",
   "execution_count": 82,
   "metadata": {},
   "outputs": [],
   "source": [
    "df_many_things = pd.read_csv('spa-eng/spa.txt', sep='\\t')"
   ]
  },
  {
   "cell_type": "code",
   "execution_count": 83,
   "metadata": {},
   "outputs": [
    {
     "data": {
      "text/html": [
       "<div>\n",
       "<style scoped>\n",
       "    .dataframe tbody tr th:only-of-type {\n",
       "        vertical-align: middle;\n",
       "    }\n",
       "\n",
       "    .dataframe tbody tr th {\n",
       "        vertical-align: top;\n",
       "    }\n",
       "\n",
       "    .dataframe thead th {\n",
       "        text-align: right;\n",
       "    }\n",
       "</style>\n",
       "<table border=\"1\" class=\"dataframe\">\n",
       "  <thead>\n",
       "    <tr style=\"text-align: right;\">\n",
       "      <th></th>\n",
       "      <th>eng</th>\n",
       "      <th>spa</th>\n",
       "    </tr>\n",
       "  </thead>\n",
       "  <tbody>\n",
       "    <tr>\n",
       "      <th>count</th>\n",
       "      <td>139636</td>\n",
       "      <td>139636</td>\n",
       "    </tr>\n",
       "    <tr>\n",
       "      <th>unique</th>\n",
       "      <td>118570</td>\n",
       "      <td>131221</td>\n",
       "    </tr>\n",
       "    <tr>\n",
       "      <th>top</th>\n",
       "      <td>You can put it there.</td>\n",
       "      <td>Estoy quebrado.</td>\n",
       "    </tr>\n",
       "    <tr>\n",
       "      <th>freq</th>\n",
       "      <td>68</td>\n",
       "      <td>12</td>\n",
       "    </tr>\n",
       "  </tbody>\n",
       "</table>\n",
       "</div>"
      ],
      "text/plain": [
       "                          eng              spa\n",
       "count                  139636           139636\n",
       "unique                 118570           131221\n",
       "top     You can put it there.  Estoy quebrado.\n",
       "freq                       68               12"
      ]
     },
     "execution_count": 83,
     "metadata": {},
     "output_type": "execute_result"
    }
   ],
   "source": [
    "df_many_things.describe()"
   ]
  },
  {
   "cell_type": "code",
   "execution_count": 84,
   "metadata": {},
   "outputs": [
    {
     "data": {
      "text/html": [
       "<div><style>\n",
       ".dataframe > thead > tr > th,\n",
       ".dataframe > tbody > tr > td {\n",
       "  text-align: right;\n",
       "}\n",
       "</style>\n",
       "<small>shape: (5, 2)</small><table border=\"1\" class=\"dataframe\"><thead><tr><th>eng</th><th>spa</th></tr><tr><td>str</td><td>str</td></tr></thead><tbody><tr><td>&quot;Go.&quot;</td><td>&quot;Ve.&quot;</td></tr><tr><td>&quot;Go.&quot;</td><td>&quot;Vete.&quot;</td></tr><tr><td>&quot;Go.&quot;</td><td>&quot;Vaya.&quot;</td></tr><tr><td>&quot;Go.&quot;</td><td>&quot;Váyase.&quot;</td></tr><tr><td>&quot;Hi.&quot;</td><td>&quot;Hola.&quot;</td></tr></tbody></table></div>"
      ],
      "text/plain": [
       "shape: (5, 2)\n",
       "┌─────┬─────────┐\n",
       "│ eng ┆ spa     │\n",
       "│ --- ┆ ---     │\n",
       "│ str ┆ str     │\n",
       "╞═════╪═════════╡\n",
       "│ Go. ┆ Ve.     │\n",
       "│ Go. ┆ Vete.   │\n",
       "│ Go. ┆ Vaya.   │\n",
       "│ Go. ┆ Váyase. │\n",
       "│ Hi. ┆ Hola.   │\n",
       "└─────┴─────────┘"
      ]
     },
     "execution_count": 84,
     "metadata": {},
     "output_type": "execute_result"
    }
   ],
   "source": [
    "# merge  datasets \n",
    "df_many_things_polars = pl.from_pandas(df_many_things)\n",
    "df_many_things_polars.head()"
   ]
  },
  {
   "cell_type": "code",
   "execution_count": 85,
   "metadata": {},
   "outputs": [],
   "source": [
    "## Concat datasets\n",
    "# Note that one columns has eng->spa and the other spa->eng\n",
    "df_general = pl.concat([df_euro_pat, df_many_things_polars], )"
   ]
  },
  {
   "cell_type": "code",
   "execution_count": 86,
   "metadata": {},
   "outputs": [
    {
     "data": {
      "text/html": [
       "<div><style>\n",
       ".dataframe > thead > tr > th,\n",
       ".dataframe > tbody > tr > td {\n",
       "  text-align: right;\n",
       "}\n",
       "</style>\n",
       "<small>shape: (7, 3)</small><table border=\"1\" class=\"dataframe\"><thead><tr><th>describe</th><th>eng</th><th>spa</th></tr><tr><td>str</td><td>str</td><td>str</td></tr></thead><tbody><tr><td>&quot;count&quot;</td><td>&quot;1139636&quot;</td><td>&quot;1139636&quot;</td></tr><tr><td>&quot;null_count&quot;</td><td>&quot;0&quot;</td><td>&quot;0&quot;</td></tr><tr><td>&quot;mean&quot;</td><td>null</td><td>null</td></tr><tr><td>&quot;std&quot;</td><td>null</td><td>null</td></tr><tr><td>&quot;min&quot;</td><td>&quot;&quot; Alkanyl &quot; by...</td><td>&quot;! 20-80 % de a...</td></tr><tr><td>&quot;max&quot;</td><td>&quot;〈Second Embodi...</td><td>&quot;◦ calcular una...</td></tr><tr><td>&quot;median&quot;</td><td>null</td><td>null</td></tr></tbody></table></div>"
      ],
      "text/plain": [
       "shape: (7, 3)\n",
       "┌────────────┬─────────────────────────────────────┬───────────────────────────────────┐\n",
       "│ describe   ┆ eng                                 ┆ spa                               │\n",
       "│ ---        ┆ ---                                 ┆ ---                               │\n",
       "│ str        ┆ str                                 ┆ str                               │\n",
       "╞════════════╪═════════════════════════════════════╪═══════════════════════════════════╡\n",
       "│ count      ┆ 1139636                             ┆ 1139636                           │\n",
       "│ null_count ┆ 0                                   ┆ 0                                 │\n",
       "│ mean       ┆ null                                ┆ null                              │\n",
       "│ std        ┆ null                                ┆ null                              │\n",
       "│ min        ┆ \" Alkanyl \" by itself or as part…   ┆ ! 20-80 % de agua en peso (% bas… │\n",
       "│ max        ┆ 〈Second Embodiment〉 Fig. 5 is a … ┆ ◦ calcular una velocidad del rob… │\n",
       "│ median     ┆ null                                ┆ null                              │\n",
       "└────────────┴─────────────────────────────────────┴───────────────────────────────────┘"
      ]
     },
     "execution_count": 86,
     "metadata": {},
     "output_type": "execute_result"
    }
   ],
   "source": [
    "df_general.describe()"
   ]
  }
 ],
 "metadata": {
  "kernelspec": {
   "display_name": "translator",
   "language": "python",
   "name": "python3"
  },
  "language_info": {
   "codemirror_mode": {
    "name": "ipython",
    "version": 3
   },
   "file_extension": ".py",
   "mimetype": "text/x-python",
   "name": "python",
   "nbconvert_exporter": "python",
   "pygments_lexer": "ipython3",
   "version": "3.10.9"
  },
  "orig_nbformat": 4
 },
 "nbformat": 4,
 "nbformat_minor": 2
}
