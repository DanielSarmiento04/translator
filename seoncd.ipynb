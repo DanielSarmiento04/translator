{
 "cells": [
  {
   "cell_type": "code",
   "execution_count": 1,
   "metadata": {},
   "outputs": [],
   "source": [
    "import requests\n",
    "from zipfile import ZipFile\n",
    "import pandas as pd\n",
    "import polars as pl\n",
    "import numpy as np\n",
    "import pyarrow as pa"
   ]
  },
  {
   "cell_type": "code",
   "execution_count": 1,
   "metadata": {},
   "outputs": [
    {
     "data": {
      "text/plain": [
       "'\\n    Read the es-en.txt, this is a database English-Spanish from  https://europat.net\\n    the file has a huge size, so we will use polars to read it.    \\n'"
      ]
     },
     "execution_count": 1,
     "metadata": {},
     "output_type": "execute_result"
    }
   ],
   "source": [
    "\"\"\"\n",
    "    Read the es-en.txt, this is a database English-Spanish from  https://europat.net\n",
    "    the file has a huge size, so we will use polars to read it.    \n",
    "\"\"\""
   ]
  },
  {
   "cell_type": "code",
   "execution_count": 2,
   "metadata": {},
   "outputs": [],
   "source": [
    "df_euro_pat = pl.read_csv('es-en.txt', sep='\\t', n_rows=4_000_000)"
   ]
  },
  {
   "cell_type": "code",
   "execution_count": 3,
   "metadata": {},
   "outputs": [],
   "source": [
    "df_euro_pat.columns = ['spa', 'eng']"
   ]
  },
  {
   "cell_type": "code",
   "execution_count": 14,
   "metadata": {},
   "outputs": [
    {
     "data": {
      "text/html": [
       "<div><style>\n",
       ".dataframe > thead > tr > th,\n",
       ".dataframe > tbody > tr > td {\n",
       "  text-align: right;\n",
       "}\n",
       "</style>\n",
       "<small>shape: (7, 3)</small><table border=\"1\" class=\"dataframe\"><thead><tr><th>describe</th><th>spa</th><th>eng</th></tr><tr><td>str</td><td>str</td><td>str</td></tr></thead><tbody><tr><td>&quot;count&quot;</td><td>&quot;4000000&quot;</td><td>&quot;4000000&quot;</td></tr><tr><td>&quot;null_count&quot;</td><td>&quot;0&quot;</td><td>&quot;0&quot;</td></tr><tr><td>&quot;mean&quot;</td><td>null</td><td>null</td></tr><tr><td>&quot;std&quot;</td><td>null</td><td>null</td></tr><tr><td>&quot;min&quot;</td><td>&quot;!n a typical b...</td><td>&quot;! (XD CH3020-C...</td></tr><tr><td>&quot;max&quot;</td><td>&quot;〉N-R³ or one o...</td><td>&quot;❖ La expresión...</td></tr><tr><td>&quot;median&quot;</td><td>null</td><td>null</td></tr></tbody></table></div>"
      ],
      "text/plain": [
       "shape: (7, 3)\n",
       "┌────────────┬────────────────────────────────────┬───────────────────────────────────┐\n",
       "│ describe   ┆ spa                                ┆ eng                               │\n",
       "│ ---        ┆ ---                                ┆ ---                               │\n",
       "│ str        ┆ str                                ┆ str                               │\n",
       "╞════════════╪════════════════════════════════════╪═══════════════════════════════════╡\n",
       "│ count      ┆ 4000000                            ┆ 4000000                           │\n",
       "│ null_count ┆ 0                                  ┆ 0                                 │\n",
       "│ mean       ┆ null                               ┆ null                              │\n",
       "│ std        ┆ null                               ┆ null                              │\n",
       "│ min        ┆ !n a typical backwash profile, d…  ┆ ! (XD CH3020-CHz-C-CH con un com… │\n",
       "│ max        ┆ 〉N-R³ or one of R¹ and R² is a l… ┆ ❖ La expresión \"[dialquilamino (… │\n",
       "│ median     ┆ null                               ┆ null                              │\n",
       "└────────────┴────────────────────────────────────┴───────────────────────────────────┘"
      ]
     },
     "execution_count": 14,
     "metadata": {},
     "output_type": "execute_result"
    }
   ],
   "source": [
    "df_euro_pat.describe()"
   ]
  },
  {
   "cell_type": "code",
   "execution_count": 23,
   "metadata": {},
   "outputs": [],
   "source": [
    "df_euro_pat.write_parquet('es-en.parquet')"
   ]
  },
  {
   "cell_type": "code",
   "execution_count": 19,
   "metadata": {},
   "outputs": [
    {
     "data": {
      "text/html": [
       "<div><style>\n",
       ".dataframe > thead > tr > th,\n",
       ".dataframe > tbody > tr > td {\n",
       "  text-align: right;\n",
       "}\n",
       "</style>\n",
       "<small>shape: (5, 2)</small><table border=\"1\" class=\"dataframe\"><thead><tr><th>spa</th><th>eng</th></tr><tr><td>str</td><td>str</td></tr></thead><tbody><tr><td>&quot;El contenido d...</td><td>&quot;The styrene co...</td></tr><tr><td>&quot;Dispositivo de...</td><td>&quot;Adaptable supp...</td></tr><tr><td>&quot;1, un sistema ...</td><td>&quot;1, a communica...</td></tr><tr><td>&quot;La inmunotrans...</td><td>&quot;Immunoblotting...</td></tr><tr><td>&quot;Análisis estad...</td><td>&quot;Statistical an...</td></tr></tbody></table></div>"
      ],
      "text/plain": [
       "shape: (5, 2)\n",
       "┌───────────────────────────────────┬───────────────────────────────────┐\n",
       "│ spa                               ┆ eng                               │\n",
       "│ ---                               ┆ ---                               │\n",
       "│ str                               ┆ str                               │\n",
       "╞═══════════════════════════════════╪═══════════════════════════════════╡\n",
       "│ El contenido de estireno del ela… ┆ The styrene content of the non-h… │\n",
       "│ Dispositivo de soporte adaptable… ┆ Adaptable supporting device acco… │\n",
       "│ 1, un sistema decomunicaciones 1… ┆ 1, a communications system 1 for… │\n",
       "│ La inmunotransferencia se realiz… ┆ Immunoblotting was done with pol… │\n",
       "│ Análisis estadístico Todos los d… ┆ Statistical analysis All data ar… │\n",
       "└───────────────────────────────────┴───────────────────────────────────┘"
      ]
     },
     "execution_count": 19,
     "metadata": {},
     "output_type": "execute_result"
    }
   ],
   "source": [
    "# move eng->spa and spa->eng\n",
    "df_euro_pat = df_euro_pat.with_columns([pl.col('spa').alias('eng'), pl.col('eng').alias('spa')])\n",
    "df_euro_pat.head()"
   ]
  },
  {
   "cell_type": "code",
   "execution_count": 21,
   "metadata": {},
   "outputs": [],
   "source": [
    "df_euro_pat.write_csv('es-en_1.txt', separator='\\t')"
   ]
  },
  {
   "cell_type": "code",
   "execution_count": 19,
   "metadata": {},
   "outputs": [],
   "source": [
    "file_name = \"spa-eng.zip\"\n",
    "\n",
    "url = f'https://www.manythings.org/anki/{file_name}'\n",
    "headers = {'User-Agent': 'Mozilla/5.0 (Macintosh; Intel Mac OS X 10_10_1) AppleWebKit/537.36 (KHTML, like Gecko) Chrome/39.0.2171.95 Safari/537.36'}\n",
    "\n",
    "r = requests.get(url, headers=headers)\n",
    "# save the file:\n",
    "with open(file_name, 'wb') as file:\n",
    "    file.write(r.content)\n",
    "    \n",
    "with ZipFile(file_name) as zip_file:\n",
    "    zip_file.extractall(\"./spa-eng\")\n",
    "\n",
    "df_many_things = pd.read_csv('spa-eng/spa.txt', sep='\\t', header=None)\n",
    "df_many_things.columns = ['eng', 'spa', 'ignore']\n",
    "df_many_things = df_many_things[['eng', 'spa']]\n",
    "df_many_things.to_csv('spa-eng/spa.txt', sep='\\t', index=False)"
   ]
  },
  {
   "cell_type": "code",
   "execution_count": 7,
   "metadata": {},
   "outputs": [],
   "source": [
    "df_many_things = pd.read_csv('spa-eng/spa.txt', sep='\\t')"
   ]
  },
  {
   "cell_type": "code",
   "execution_count": 9,
   "metadata": {},
   "outputs": [
    {
     "data": {
      "text/html": [
       "<div>\n",
       "<style scoped>\n",
       "    .dataframe tbody tr th:only-of-type {\n",
       "        vertical-align: middle;\n",
       "    }\n",
       "\n",
       "    .dataframe tbody tr th {\n",
       "        vertical-align: top;\n",
       "    }\n",
       "\n",
       "    .dataframe thead th {\n",
       "        text-align: right;\n",
       "    }\n",
       "</style>\n",
       "<table border=\"1\" class=\"dataframe\">\n",
       "  <thead>\n",
       "    <tr style=\"text-align: right;\">\n",
       "      <th></th>\n",
       "      <th>eng</th>\n",
       "      <th>spa</th>\n",
       "    </tr>\n",
       "  </thead>\n",
       "  <tbody>\n",
       "    <tr>\n",
       "      <th>count</th>\n",
       "      <td>139636</td>\n",
       "      <td>139636</td>\n",
       "    </tr>\n",
       "    <tr>\n",
       "      <th>unique</th>\n",
       "      <td>118570</td>\n",
       "      <td>131221</td>\n",
       "    </tr>\n",
       "    <tr>\n",
       "      <th>top</th>\n",
       "      <td>You can put it there.</td>\n",
       "      <td>Estoy quebrado.</td>\n",
       "    </tr>\n",
       "    <tr>\n",
       "      <th>freq</th>\n",
       "      <td>68</td>\n",
       "      <td>12</td>\n",
       "    </tr>\n",
       "  </tbody>\n",
       "</table>\n",
       "</div>"
      ],
      "text/plain": [
       "                          eng              spa\n",
       "count                  139636           139636\n",
       "unique                 118570           131221\n",
       "top     You can put it there.  Estoy quebrado.\n",
       "freq                       68               12"
      ]
     },
     "execution_count": 9,
     "metadata": {},
     "output_type": "execute_result"
    }
   ],
   "source": [
    "df_many_things.describe()"
   ]
  },
  {
   "cell_type": "code",
   "execution_count": 18,
   "metadata": {},
   "outputs": [
    {
     "data": {
      "text/html": [
       "<div><style>\n",
       ".dataframe > thead > tr > th,\n",
       ".dataframe > tbody > tr > td {\n",
       "  text-align: right;\n",
       "}\n",
       "</style>\n",
       "<small>shape: (5, 2)</small><table border=\"1\" class=\"dataframe\"><thead><tr><th>eng</th><th>spa</th></tr><tr><td>str</td><td>str</td></tr></thead><tbody><tr><td>&quot;Go.&quot;</td><td>&quot;Ve.&quot;</td></tr><tr><td>&quot;Go.&quot;</td><td>&quot;Vete.&quot;</td></tr><tr><td>&quot;Go.&quot;</td><td>&quot;Vaya.&quot;</td></tr><tr><td>&quot;Go.&quot;</td><td>&quot;Váyase.&quot;</td></tr><tr><td>&quot;Hi.&quot;</td><td>&quot;Hola.&quot;</td></tr></tbody></table></div>"
      ],
      "text/plain": [
       "shape: (5, 2)\n",
       "┌─────┬─────────┐\n",
       "│ eng ┆ spa     │\n",
       "│ --- ┆ ---     │\n",
       "│ str ┆ str     │\n",
       "╞═════╪═════════╡\n",
       "│ Go. ┆ Ve.     │\n",
       "│ Go. ┆ Vete.   │\n",
       "│ Go. ┆ Vaya.   │\n",
       "│ Go. ┆ Váyase. │\n",
       "│ Hi. ┆ Hola.   │\n",
       "└─────┴─────────┘"
      ]
     },
     "execution_count": 18,
     "metadata": {},
     "output_type": "execute_result"
    }
   ],
   "source": [
    "# merge  datasets \n",
    "df_many_things_polars = pl.from_pandas(df_many_things)\n",
    "df_many_things_polars.head()"
   ]
  },
  {
   "cell_type": "code",
   "execution_count": 20,
   "metadata": {},
   "outputs": [
    {
     "ename": "ShapeError",
     "evalue": "unable to vstack, column names don't match: \"spa\" and \"eng\"",
     "output_type": "error",
     "traceback": [
      "\u001b[0;31m---------------------------------------------------------------------------\u001b[0m",
      "\u001b[0;31mShapeError\u001b[0m                                Traceback (most recent call last)",
      "Cell \u001b[0;32mIn[20], line 1\u001b[0m\n\u001b[0;32m----> 1\u001b[0m df_general \u001b[39m=\u001b[39m pl\u001b[39m.\u001b[39;49mconcat([df_euro_pat, df_many_things_polars], rechunk\u001b[39m=\u001b[39;49m\u001b[39mTrue\u001b[39;49;00m)\n",
      "File \u001b[0;32m~/miniforge3/envs/translator/lib/python3.10/site-packages/polars/utils/decorators.py:126\u001b[0m, in \u001b[0;36mdeprecate_nonkeyword_arguments.<locals>.decorate.<locals>.wrapper\u001b[0;34m(*args, **kwargs)\u001b[0m\n\u001b[1;32m    124\u001b[0m \u001b[39mif\u001b[39;00m \u001b[39mlen\u001b[39m(args) \u001b[39m>\u001b[39m num_allowed_args:\n\u001b[1;32m    125\u001b[0m     warnings\u001b[39m.\u001b[39mwarn(msg, \u001b[39mDeprecationWarning\u001b[39;00m, stacklevel\u001b[39m=\u001b[39m\u001b[39m2\u001b[39m)\n\u001b[0;32m--> 126\u001b[0m \u001b[39mreturn\u001b[39;00m function(\u001b[39m*\u001b[39;49margs, \u001b[39m*\u001b[39;49m\u001b[39m*\u001b[39;49mkwargs)\n",
      "File \u001b[0;32m~/miniforge3/envs/translator/lib/python3.10/site-packages/polars/functions/eager.py:251\u001b[0m, in \u001b[0;36mconcat\u001b[0;34m(items, rechunk, how, parallel)\u001b[0m\n\u001b[1;32m    249\u001b[0m \u001b[39mif\u001b[39;00m \u001b[39misinstance\u001b[39m(first, pli\u001b[39m.\u001b[39mDataFrame):\n\u001b[1;32m    250\u001b[0m     \u001b[39mif\u001b[39;00m how \u001b[39m==\u001b[39m \u001b[39m\"\u001b[39m\u001b[39mvertical\u001b[39m\u001b[39m\"\u001b[39m:\n\u001b[0;32m--> 251\u001b[0m         out \u001b[39m=\u001b[39m pli\u001b[39m.\u001b[39mwrap_df(_concat_df(elems))\n\u001b[1;32m    252\u001b[0m     \u001b[39melif\u001b[39;00m how \u001b[39m==\u001b[39m \u001b[39m\"\u001b[39m\u001b[39mdiagonal\u001b[39m\u001b[39m\"\u001b[39m:\n\u001b[1;32m    253\u001b[0m         out \u001b[39m=\u001b[39m pli\u001b[39m.\u001b[39mwrap_df(_diag_concat_df(elems))\n",
      "\u001b[0;31mShapeError\u001b[0m: unable to vstack, column names don't match: \"spa\" and \"eng\""
     ]
    }
   ],
   "source": [
    "df_general = pl.concat([df_euro_pat, df_many_things_polars], rechunk=True)"
   ]
  }
 ],
 "metadata": {
  "kernelspec": {
   "display_name": "translator",
   "language": "python",
   "name": "python3"
  },
  "language_info": {
   "codemirror_mode": {
    "name": "ipython",
    "version": 3
   },
   "file_extension": ".py",
   "mimetype": "text/x-python",
   "name": "python",
   "nbconvert_exporter": "python",
   "pygments_lexer": "ipython3",
   "version": "3.10.9"
  },
  "orig_nbformat": 4
 },
 "nbformat": 4,
 "nbformat_minor": 2
}
