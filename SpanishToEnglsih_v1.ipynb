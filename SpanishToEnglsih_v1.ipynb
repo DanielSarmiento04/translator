{
  "cells": [
    {
      "cell_type": "code",
      "execution_count": 2,
      "metadata": {
        "colab": {
          "base_uri": "https://localhost:8080/"
        },
        "id": "O4lq5AvYpX-E",
        "outputId": "d62463ec-9e21-4b9f-9f88-025d0130a70d"
      },
      "outputs": [
        {
          "output_type": "stream",
          "name": "stdout",
          "text": [
            "Looking in indexes: https://pypi.org/simple, https://us-python.pkg.dev/colab-wheels/public/simple/\n",
            "Requirement already satisfied: einops in /usr/local/lib/python3.9/dist-packages (0.6.0)\n",
            "Requirement already satisfied: tensorflow-text>=2.11 in /usr/local/lib/python3.9/dist-packages (2.11.0)\n",
            "Requirement already satisfied: tensorflow<2.12,>=2.11.0 in /usr/local/lib/python3.9/dist-packages (from tensorflow-text>=2.11) (2.11.0)\n",
            "Requirement already satisfied: tensorflow-hub>=0.8.0 in /usr/local/lib/python3.9/dist-packages (from tensorflow-text>=2.11) (0.13.0)\n",
            "Requirement already satisfied: numpy>=1.20 in /usr/local/lib/python3.9/dist-packages (from tensorflow<2.12,>=2.11.0->tensorflow-text>=2.11) (1.22.4)\n",
            "Requirement already satisfied: wrapt>=1.11.0 in /usr/local/lib/python3.9/dist-packages (from tensorflow<2.12,>=2.11.0->tensorflow-text>=2.11) (1.15.0)\n",
            "Requirement already satisfied: google-pasta>=0.1.1 in /usr/local/lib/python3.9/dist-packages (from tensorflow<2.12,>=2.11.0->tensorflow-text>=2.11) (0.2.0)\n",
            "Requirement already satisfied: h5py>=2.9.0 in /usr/local/lib/python3.9/dist-packages (from tensorflow<2.12,>=2.11.0->tensorflow-text>=2.11) (3.8.0)\n",
            "Requirement already satisfied: gast<=0.4.0,>=0.2.1 in /usr/local/lib/python3.9/dist-packages (from tensorflow<2.12,>=2.11.0->tensorflow-text>=2.11) (0.4.0)\n",
            "Requirement already satisfied: setuptools in /usr/local/lib/python3.9/dist-packages (from tensorflow<2.12,>=2.11.0->tensorflow-text>=2.11) (63.4.3)\n",
            "Requirement already satisfied: packaging in /usr/local/lib/python3.9/dist-packages (from tensorflow<2.12,>=2.11.0->tensorflow-text>=2.11) (23.0)\n",
            "Requirement already satisfied: absl-py>=1.0.0 in /usr/local/lib/python3.9/dist-packages (from tensorflow<2.12,>=2.11.0->tensorflow-text>=2.11) (1.4.0)\n",
            "Requirement already satisfied: opt-einsum>=2.3.2 in /usr/local/lib/python3.9/dist-packages (from tensorflow<2.12,>=2.11.0->tensorflow-text>=2.11) (3.3.0)\n",
            "Requirement already satisfied: astunparse>=1.6.0 in /usr/local/lib/python3.9/dist-packages (from tensorflow<2.12,>=2.11.0->tensorflow-text>=2.11) (1.6.3)\n",
            "Requirement already satisfied: typing-extensions>=3.6.6 in /usr/local/lib/python3.9/dist-packages (from tensorflow<2.12,>=2.11.0->tensorflow-text>=2.11) (4.5.0)\n",
            "Requirement already satisfied: tensorboard<2.12,>=2.11 in /usr/local/lib/python3.9/dist-packages (from tensorflow<2.12,>=2.11.0->tensorflow-text>=2.11) (2.11.2)\n",
            "Requirement already satisfied: six>=1.12.0 in /usr/local/lib/python3.9/dist-packages (from tensorflow<2.12,>=2.11.0->tensorflow-text>=2.11) (1.15.0)\n",
            "Requirement already satisfied: libclang>=13.0.0 in /usr/local/lib/python3.9/dist-packages (from tensorflow<2.12,>=2.11.0->tensorflow-text>=2.11) (15.0.6.1)\n",
            "Requirement already satisfied: keras<2.12,>=2.11.0 in /usr/local/lib/python3.9/dist-packages (from tensorflow<2.12,>=2.11.0->tensorflow-text>=2.11) (2.11.0)\n",
            "Requirement already satisfied: protobuf<3.20,>=3.9.2 in /usr/local/lib/python3.9/dist-packages (from tensorflow<2.12,>=2.11.0->tensorflow-text>=2.11) (3.19.6)\n",
            "Requirement already satisfied: flatbuffers>=2.0 in /usr/local/lib/python3.9/dist-packages (from tensorflow<2.12,>=2.11.0->tensorflow-text>=2.11) (23.3.3)\n",
            "Requirement already satisfied: grpcio<2.0,>=1.24.3 in /usr/local/lib/python3.9/dist-packages (from tensorflow<2.12,>=2.11.0->tensorflow-text>=2.11) (1.51.3)\n",
            "Requirement already satisfied: tensorflow-io-gcs-filesystem>=0.23.1 in /usr/local/lib/python3.9/dist-packages (from tensorflow<2.12,>=2.11.0->tensorflow-text>=2.11) (0.31.0)\n",
            "Requirement already satisfied: termcolor>=1.1.0 in /usr/local/lib/python3.9/dist-packages (from tensorflow<2.12,>=2.11.0->tensorflow-text>=2.11) (2.2.0)\n",
            "Requirement already satisfied: tensorflow-estimator<2.12,>=2.11.0 in /usr/local/lib/python3.9/dist-packages (from tensorflow<2.12,>=2.11.0->tensorflow-text>=2.11) (2.11.0)\n",
            "Requirement already satisfied: wheel<1.0,>=0.23.0 in /usr/local/lib/python3.9/dist-packages (from astunparse>=1.6.0->tensorflow<2.12,>=2.11.0->tensorflow-text>=2.11) (0.40.0)\n",
            "Requirement already satisfied: markdown>=2.6.8 in /usr/local/lib/python3.9/dist-packages (from tensorboard<2.12,>=2.11->tensorflow<2.12,>=2.11.0->tensorflow-text>=2.11) (3.4.1)\n",
            "Requirement already satisfied: werkzeug>=1.0.1 in /usr/local/lib/python3.9/dist-packages (from tensorboard<2.12,>=2.11->tensorflow<2.12,>=2.11.0->tensorflow-text>=2.11) (2.2.3)\n",
            "Requirement already satisfied: google-auth<3,>=1.6.3 in /usr/local/lib/python3.9/dist-packages (from tensorboard<2.12,>=2.11->tensorflow<2.12,>=2.11.0->tensorflow-text>=2.11) (2.16.2)\n",
            "Requirement already satisfied: google-auth-oauthlib<0.5,>=0.4.1 in /usr/local/lib/python3.9/dist-packages (from tensorboard<2.12,>=2.11->tensorflow<2.12,>=2.11.0->tensorflow-text>=2.11) (0.4.6)\n",
            "Requirement already satisfied: tensorboard-data-server<0.7.0,>=0.6.0 in /usr/local/lib/python3.9/dist-packages (from tensorboard<2.12,>=2.11->tensorflow<2.12,>=2.11.0->tensorflow-text>=2.11) (0.6.1)\n",
            "Requirement already satisfied: tensorboard-plugin-wit>=1.6.0 in /usr/local/lib/python3.9/dist-packages (from tensorboard<2.12,>=2.11->tensorflow<2.12,>=2.11.0->tensorflow-text>=2.11) (1.8.1)\n",
            "Requirement already satisfied: requests<3,>=2.21.0 in /usr/local/lib/python3.9/dist-packages (from tensorboard<2.12,>=2.11->tensorflow<2.12,>=2.11.0->tensorflow-text>=2.11) (2.27.1)\n",
            "Requirement already satisfied: pyasn1-modules>=0.2.1 in /usr/local/lib/python3.9/dist-packages (from google-auth<3,>=1.6.3->tensorboard<2.12,>=2.11->tensorflow<2.12,>=2.11.0->tensorflow-text>=2.11) (0.2.8)\n",
            "Requirement already satisfied: cachetools<6.0,>=2.0.0 in /usr/local/lib/python3.9/dist-packages (from google-auth<3,>=1.6.3->tensorboard<2.12,>=2.11->tensorflow<2.12,>=2.11.0->tensorflow-text>=2.11) (5.3.0)\n",
            "Requirement already satisfied: rsa<5,>=3.1.4 in /usr/local/lib/python3.9/dist-packages (from google-auth<3,>=1.6.3->tensorboard<2.12,>=2.11->tensorflow<2.12,>=2.11.0->tensorflow-text>=2.11) (4.9)\n",
            "Requirement already satisfied: requests-oauthlib>=0.7.0 in /usr/local/lib/python3.9/dist-packages (from google-auth-oauthlib<0.5,>=0.4.1->tensorboard<2.12,>=2.11->tensorflow<2.12,>=2.11.0->tensorflow-text>=2.11) (1.3.1)\n",
            "Requirement already satisfied: importlib-metadata>=4.4 in /usr/local/lib/python3.9/dist-packages (from markdown>=2.6.8->tensorboard<2.12,>=2.11->tensorflow<2.12,>=2.11.0->tensorflow-text>=2.11) (6.0.0)\n",
            "Requirement already satisfied: charset-normalizer~=2.0.0 in /usr/local/lib/python3.9/dist-packages (from requests<3,>=2.21.0->tensorboard<2.12,>=2.11->tensorflow<2.12,>=2.11.0->tensorflow-text>=2.11) (2.0.12)\n",
            "Requirement already satisfied: urllib3<1.27,>=1.21.1 in /usr/local/lib/python3.9/dist-packages (from requests<3,>=2.21.0->tensorboard<2.12,>=2.11->tensorflow<2.12,>=2.11.0->tensorflow-text>=2.11) (1.26.15)\n",
            "Requirement already satisfied: idna<4,>=2.5 in /usr/local/lib/python3.9/dist-packages (from requests<3,>=2.21.0->tensorboard<2.12,>=2.11->tensorflow<2.12,>=2.11.0->tensorflow-text>=2.11) (3.4)\n",
            "Requirement already satisfied: certifi>=2017.4.17 in /usr/local/lib/python3.9/dist-packages (from requests<3,>=2.21.0->tensorboard<2.12,>=2.11->tensorflow<2.12,>=2.11.0->tensorflow-text>=2.11) (2022.12.7)\n",
            "Requirement already satisfied: MarkupSafe>=2.1.1 in /usr/local/lib/python3.9/dist-packages (from werkzeug>=1.0.1->tensorboard<2.12,>=2.11->tensorflow<2.12,>=2.11.0->tensorflow-text>=2.11) (2.1.2)\n",
            "Requirement already satisfied: zipp>=0.5 in /usr/local/lib/python3.9/dist-packages (from importlib-metadata>=4.4->markdown>=2.6.8->tensorboard<2.12,>=2.11->tensorflow<2.12,>=2.11.0->tensorflow-text>=2.11) (3.15.0)\n",
            "Requirement already satisfied: pyasn1<0.5.0,>=0.4.6 in /usr/local/lib/python3.9/dist-packages (from pyasn1-modules>=0.2.1->google-auth<3,>=1.6.3->tensorboard<2.12,>=2.11->tensorflow<2.12,>=2.11.0->tensorflow-text>=2.11) (0.4.8)\n",
            "Requirement already satisfied: oauthlib>=3.0.0 in /usr/local/lib/python3.9/dist-packages (from requests-oauthlib>=0.7.0->google-auth-oauthlib<0.5,>=0.4.1->tensorboard<2.12,>=2.11->tensorflow<2.12,>=2.11.0->tensorflow-text>=2.11) (3.2.2)\n"
          ]
        }
      ],
      "source": [
        "!pip install einops \"tensorflow-text>=2.11\""
      ]
    },
    {
      "cell_type": "code",
      "source": [
        "%pip install polars"
      ],
      "metadata": {
        "colab": {
          "base_uri": "https://localhost:8080/"
        },
        "id": "ADsfGmrOah3R",
        "outputId": "c11dd62d-909f-4996-aec9-87987df37ada"
      },
      "execution_count": 3,
      "outputs": [
        {
          "output_type": "stream",
          "name": "stdout",
          "text": [
            "Looking in indexes: https://pypi.org/simple, https://us-python.pkg.dev/colab-wheels/public/simple/\n",
            "Collecting polars\n",
            "  Downloading polars-0.16.14-cp37-abi3-manylinux_2_17_x86_64.manylinux2014_x86_64.whl (16.2 MB)\n",
            "\u001b[2K     \u001b[90m━━━━━━━━━━━━━━━━━━━━━━━━━━━━━━━━━━━━━━━━\u001b[0m \u001b[32m16.2/16.2 MB\u001b[0m \u001b[31m85.3 MB/s\u001b[0m eta \u001b[36m0:00:00\u001b[0m\n",
            "\u001b[?25hRequirement already satisfied: typing_extensions>=4.0.1 in /usr/local/lib/python3.9/dist-packages (from polars) (4.5.0)\n",
            "Installing collected packages: polars\n",
            "Successfully installed polars-0.16.14\n"
          ]
        }
      ]
    },
    {
      "cell_type": "markdown",
      "metadata": {
        "id": "DyKeWqiEudnk"
      },
      "source": [
        "## Load Library"
      ]
    },
    {
      "cell_type": "code",
      "execution_count": 8,
      "metadata": {
        "id": "Yy5Kf-Lqo6gL"
      },
      "outputs": [],
      "source": [
        "# data manipulation\n",
        "import numpy as np\n",
        "\n",
        "import typing\n",
        "from typing import Any, Tuple\n",
        "\n",
        "# Neural network management\n",
        "import einops\n",
        "import matplotlib.pyplot as plt\n",
        "import matplotlib.ticker as ticker\n",
        "\n",
        "import tensorflow as tf\n",
        "import tensorflow_text as tf_text\n",
        "# Load datasets\n",
        "import requests\n",
        "from zipfile import ZipFile\n",
        "import polars as pl\n",
        "import pandas as pd\n",
        "# Download the file\n",
        "import pathlib\n"
      ]
    },
    {
      "cell_type": "markdown",
      "metadata": {
        "id": "yJnvwY7_u5Nv"
      },
      "source": [
        "## Load datasets"
      ]
    },
    {
      "cell_type": "code",
      "execution_count": null,
      "metadata": {
        "id": "tiyC8MYyYs9z"
      },
      "outputs": [],
      "source": [
        "file_name = \"spa-eng.zip\"\n",
        "\n",
        "url = f'https://www.manythings.org/anki/{file_name}'\n",
        "headers = {'User-Agent': 'Mozilla/5.0 (Macintosh; Intel Mac OS X 10_10_1) AppleWebKit/537.36 (KHTML, like Gecko) Chrome/39.0.2171.95 Safari/537.36'}\n",
        "\n",
        "r = requests.get(url, headers=headers)\n",
        "# save the file:\n",
        "with open(file_name, 'wb') as file:\n",
        "    file.write(r.content)\n",
        "    \n",
        "with ZipFile(file_name) as zip_file:\n",
        "    zip_file.extractall(\"./spa-eng\")"
      ]
    },
    {
      "cell_type": "markdown",
      "metadata": {
        "id": "buT214OQvKUR"
      },
      "source": [
        "## Clean data"
      ]
    },
    {
      "cell_type": "code",
      "execution_count": null,
      "metadata": {
        "id": "u9s4xrJghWTE"
      },
      "outputs": [],
      "source": [
        "df = pd.read_csv('spa-eng/spa.txt', sep='\\t', header=None)\n",
        "df.columns = ['eng', 'spa', 'ignore']\n",
        "df = df[['eng', 'spa']]\n",
        "\n",
        "df.to_csv('spa-eng/spa.txt', sep='\\t', index=False)"
      ]
    },
    {
      "cell_type": "code",
      "execution_count": null,
      "metadata": {
        "colab": {
          "base_uri": "https://localhost:8080/",
          "height": 170
        },
        "id": "IBZ5a31nvSrJ",
        "outputId": "50111a0c-ef76-4c3c-c930-303759ca262a"
      },
      "outputs": [
        {
          "data": {
            "text/html": [
              "\n",
              "  <div id=\"df-93c58553-d1da-4644-bebd-552787480805\">\n",
              "    <div class=\"colab-df-container\">\n",
              "      <div>\n",
              "<style scoped>\n",
              "    .dataframe tbody tr th:only-of-type {\n",
              "        vertical-align: middle;\n",
              "    }\n",
              "\n",
              "    .dataframe tbody tr th {\n",
              "        vertical-align: top;\n",
              "    }\n",
              "\n",
              "    .dataframe thead th {\n",
              "        text-align: right;\n",
              "    }\n",
              "</style>\n",
              "<table border=\"1\" class=\"dataframe\">\n",
              "  <thead>\n",
              "    <tr style=\"text-align: right;\">\n",
              "      <th></th>\n",
              "      <th>eng</th>\n",
              "      <th>spa</th>\n",
              "    </tr>\n",
              "  </thead>\n",
              "  <tbody>\n",
              "    <tr>\n",
              "      <th>count</th>\n",
              "      <td>139636</td>\n",
              "      <td>139636</td>\n",
              "    </tr>\n",
              "    <tr>\n",
              "      <th>unique</th>\n",
              "      <td>118570</td>\n",
              "      <td>131221</td>\n",
              "    </tr>\n",
              "    <tr>\n",
              "      <th>top</th>\n",
              "      <td>You can put it there.</td>\n",
              "      <td>Estoy quebrado.</td>\n",
              "    </tr>\n",
              "    <tr>\n",
              "      <th>freq</th>\n",
              "      <td>68</td>\n",
              "      <td>12</td>\n",
              "    </tr>\n",
              "  </tbody>\n",
              "</table>\n",
              "</div>\n",
              "      <button class=\"colab-df-convert\" onclick=\"convertToInteractive('df-93c58553-d1da-4644-bebd-552787480805')\"\n",
              "              title=\"Convert this dataframe to an interactive table.\"\n",
              "              style=\"display:none;\">\n",
              "        \n",
              "  <svg xmlns=\"http://www.w3.org/2000/svg\" height=\"24px\"viewBox=\"0 0 24 24\"\n",
              "       width=\"24px\">\n",
              "    <path d=\"M0 0h24v24H0V0z\" fill=\"none\"/>\n",
              "    <path d=\"M18.56 5.44l.94 2.06.94-2.06 2.06-.94-2.06-.94-.94-2.06-.94 2.06-2.06.94zm-11 1L8.5 8.5l.94-2.06 2.06-.94-2.06-.94L8.5 2.5l-.94 2.06-2.06.94zm10 10l.94 2.06.94-2.06 2.06-.94-2.06-.94-.94-2.06-.94 2.06-2.06.94z\"/><path d=\"M17.41 7.96l-1.37-1.37c-.4-.4-.92-.59-1.43-.59-.52 0-1.04.2-1.43.59L10.3 9.45l-7.72 7.72c-.78.78-.78 2.05 0 2.83L4 21.41c.39.39.9.59 1.41.59.51 0 1.02-.2 1.41-.59l7.78-7.78 2.81-2.81c.8-.78.8-2.07 0-2.86zM5.41 20L4 18.59l7.72-7.72 1.47 1.35L5.41 20z\"/>\n",
              "  </svg>\n",
              "      </button>\n",
              "      \n",
              "  <style>\n",
              "    .colab-df-container {\n",
              "      display:flex;\n",
              "      flex-wrap:wrap;\n",
              "      gap: 12px;\n",
              "    }\n",
              "\n",
              "    .colab-df-convert {\n",
              "      background-color: #E8F0FE;\n",
              "      border: none;\n",
              "      border-radius: 50%;\n",
              "      cursor: pointer;\n",
              "      display: none;\n",
              "      fill: #1967D2;\n",
              "      height: 32px;\n",
              "      padding: 0 0 0 0;\n",
              "      width: 32px;\n",
              "    }\n",
              "\n",
              "    .colab-df-convert:hover {\n",
              "      background-color: #E2EBFA;\n",
              "      box-shadow: 0px 1px 2px rgba(60, 64, 67, 0.3), 0px 1px 3px 1px rgba(60, 64, 67, 0.15);\n",
              "      fill: #174EA6;\n",
              "    }\n",
              "\n",
              "    [theme=dark] .colab-df-convert {\n",
              "      background-color: #3B4455;\n",
              "      fill: #D2E3FC;\n",
              "    }\n",
              "\n",
              "    [theme=dark] .colab-df-convert:hover {\n",
              "      background-color: #434B5C;\n",
              "      box-shadow: 0px 1px 3px 1px rgba(0, 0, 0, 0.15);\n",
              "      filter: drop-shadow(0px 1px 2px rgba(0, 0, 0, 0.3));\n",
              "      fill: #FFFFFF;\n",
              "    }\n",
              "  </style>\n",
              "\n",
              "      <script>\n",
              "        const buttonEl =\n",
              "          document.querySelector('#df-93c58553-d1da-4644-bebd-552787480805 button.colab-df-convert');\n",
              "        buttonEl.style.display =\n",
              "          google.colab.kernel.accessAllowed ? 'block' : 'none';\n",
              "\n",
              "        async function convertToInteractive(key) {\n",
              "          const element = document.querySelector('#df-93c58553-d1da-4644-bebd-552787480805');\n",
              "          const dataTable =\n",
              "            await google.colab.kernel.invokeFunction('convertToInteractive',\n",
              "                                                     [key], {});\n",
              "          if (!dataTable) return;\n",
              "\n",
              "          const docLinkHtml = 'Like what you see? Visit the ' +\n",
              "            '<a target=\"_blank\" href=https://colab.research.google.com/notebooks/data_table.ipynb>data table notebook</a>'\n",
              "            + ' to learn more about interactive tables.';\n",
              "          element.innerHTML = '';\n",
              "          dataTable['output_type'] = 'display_data';\n",
              "          await google.colab.output.renderOutput(dataTable, element);\n",
              "          const docLink = document.createElement('div');\n",
              "          docLink.innerHTML = docLinkHtml;\n",
              "          element.appendChild(docLink);\n",
              "        }\n",
              "      </script>\n",
              "    </div>\n",
              "  </div>\n",
              "  "
            ],
            "text/plain": [
              "                          eng              spa\n",
              "count                  139636           139636\n",
              "unique                 118570           131221\n",
              "top     You can put it there.  Estoy quebrado.\n",
              "freq                       68               12"
            ]
          },
          "execution_count": 10,
          "metadata": {},
          "output_type": "execute_result"
        }
      ],
      "source": [
        "df.describe()"
      ]
    },
    {
      "cell_type": "code",
      "execution_count": 9,
      "metadata": {
        "id": "tjPFqCiOuNJp"
      },
      "outputs": [],
      "source": [
        "class ShapeChecker():\n",
        "    def __init__(self):\n",
        "        # Keep a cache of every axis-name seen\n",
        "        self.shapes = {}\n",
        "\n",
        "    def __call__(self, tensor, names, broadcast=False):\n",
        "        if not tf.executing_eagerly():\n",
        "            return\n",
        "\n",
        "        parsed = einops.parse_shape(tensor, names)\n",
        "\n",
        "        for name, new_dim in parsed.items():\n",
        "            old_dim = self.shapes.get(name, None)\n",
        "        \n",
        "            if (broadcast and new_dim == 1):\n",
        "                continue\n",
        "\n",
        "            if old_dim is None:\n",
        "                # If the axis name is new, add its length to the cache.\n",
        "                self.shapes[name] = new_dim\n",
        "                continue\n",
        "\n",
        "            if new_dim != old_dim:\n",
        "                raise ValueError(\n",
        "                            f\"Shape mismatch for dimension: '{name}'\\n\"\n",
        "                            f\"    found: {new_dim}\\n\"\n",
        "                            f\"    expected: {old_dim}\\n\"\n",
        "                    )"
      ]
    },
    {
      "cell_type": "code",
      "execution_count": 10,
      "metadata": {
        "id": "dxrx7YNXvuVU"
      },
      "outputs": [],
      "source": [
        "path_to_file = pathlib.PosixPath(\"/content/es-en.parquet\")"
      ]
    },
    {
      "cell_type": "code",
      "execution_count": 11,
      "metadata": {
        "id": "GZIaiqfBqXJr"
      },
      "outputs": [],
      "source": [
        "def load_data(path) -> Tuple[np.ndarray, np.ndarray]:\n",
        "    \"\"\"\n",
        "        Description\n",
        "        ------------\n",
        "        This function get the string data from the file path, as the file is \n",
        "        tab separated, we split the lines and then split the line with tab\n",
        "\n",
        "    \"\"\"\n",
        "    import polars as pl\n",
        "    import numpy as np\n",
        "\n",
        "    df = pl.read_parquet(path)\n",
        "    df.columns = ['eng', 'spa']\n",
        "    df = df[['eng', 'spa']]\n",
        "    \n",
        "    context = df['spa'].to_numpy()\n",
        "    target = df['eng'].to_numpy()\n",
        "    return target, context"
      ]
    },
    {
      "cell_type": "code",
      "execution_count": 12,
      "metadata": {
        "colab": {
          "base_uri": "https://localhost:8080/"
        },
        "id": "y7bk-E8wqZVQ",
        "outputId": "0f40e45b-c9d7-45cd-e184-cdb051afa56a"
      },
      "outputs": [
        {
          "output_type": "stream",
          "name": "stdout",
          "text": [
            "Mediante la utilización de material de revestimiento poroso, tal como velos o capas tipo piel porosas, se puede inyectar resina en las fibras a través del material de revestimiento, y esto puede ser adicional o alternativo a la inyección central de resina en las fibras.\n"
          ]
        }
      ],
      "source": [
        "target_raw, context_raw = load_data(path_to_file)\n",
        "print(context_raw[-1])"
      ]
    },
    {
      "cell_type": "code",
      "execution_count": 14,
      "metadata": {
        "colab": {
          "base_uri": "https://localhost:8080/"
        },
        "id": "z6qcCQbnq4yA",
        "outputId": "8858a2f2-f522-445c-d781-66865fac1d25"
      },
      "outputs": [
        {
          "output_type": "stream",
          "name": "stdout",
          "text": [
            "By using porous surfacing material, such as porous veils or peel plies, resin may be injected into the fibres through the surfacing material, and this may be in addition to, or as an alternative to, central injection of resin into the fibres.\n"
          ]
        }
      ],
      "source": [
        "target_raw, context_raw = load_data(path_to_file)\n",
        "print(target_raw[-1])"
      ]
    },
    {
      "cell_type": "code",
      "execution_count": 15,
      "metadata": {
        "id": "Fq0B0W-8q8XZ"
      },
      "outputs": [],
      "source": [
        "BUFFER_SIZE = len(context_raw)\n",
        "BATCH_SIZE = 64\n",
        "\n",
        "is_train = np.random.uniform(size=(len(target_raw),)) < 0.8\n",
        "\n",
        "train_raw = (\n",
        "    tf.data.Dataset\n",
        "    .from_tensor_slices((context_raw[is_train], target_raw[is_train]))\n",
        "    .shuffle(BUFFER_SIZE)\n",
        "    .batch(BATCH_SIZE))\n",
        "val_raw = (\n",
        "    tf.data.Dataset\n",
        "    .from_tensor_slices((context_raw[~is_train], target_raw[~is_train]))\n",
        "    .shuffle(BUFFER_SIZE)\n",
        "    .batch(BATCH_SIZE))"
      ]
    },
    {
      "cell_type": "code",
      "execution_count": 16,
      "metadata": {
        "colab": {
          "base_uri": "https://localhost:8080/"
        },
        "id": "_13QeLaArJqM",
        "outputId": "d16a8db3-7b54-4046-808c-56293b4b8c69"
      },
      "outputs": [
        {
          "output_type": "stream",
          "name": "stdout",
          "text": [
            "tf.Tensor(\n",
            "[b'Como alternativa, puede ser preferible usar un amplificador operativo configurado como una fuente de corriente controlada por tension, que puede configurarse para permitir que una fuente, o se\\xc3\\xb1al, de 5 10 15 20 25 30 35 40 45 50 55 60 tension de alta impedancia disponible a partir de un conversor de digital a analogico (DAC) contenido dentro de un microprocesador 140 controle el nivel de corriente que fluye a traves del solenoide o bobina 730.'\n",
            " b'Sobre el bastidor 20 est\\xc3\\xa1 montado unrodillo 23 de aplicaci\\xc3\\xb3n de etiquetas, el cual forma unaseparaci\\xc3\\xb3n de agarre con un rodillo 39 que es accionado a lavelocidad de la l\\xc3\\xadnea, es decir, a una velocidad que se correspondecon la velocidad a la cual son hechos pasar los r\\xc3\\xb3tulos a trav\\xc3\\xa9sdel aparato.'\n",
            " b'Debe considerarse dentro delalcance de la invenci\\xc3\\xb3n tener una parte separable (144) que sea unaparte rompible o que pueda usarse un adhesivo o alguna forma desoldadura d\\xc3\\xa9bil, tal como ultras\\xc3\\xb3nica, para conectar temporalmentela parte separable y el porta agujas.'\n",
            " b'Los hilossalientes o \"flotantes\" est\\xc3\\xa1n dispuestos preferentemente en ladirecci\\xc3\\xb3n de la m\\xc3\\xa1quina y sirven para definir una superficieplana y continua situada por encima y paralelamente al plano central dela tela, y por debajo y paralelamente al plano definido por lossalientes (\"floats\") de la superficie.'\n",
            " b'[0011]Los modos de realizaci\\xc3\\xb3n del procedimiento pueden incluir al menos algunas de las caracter\\xc3\\xadsticas descritas en la presente divulgaci\\xc3\\xb3n, que incluyen una o m\\xc3\\xa1s de las siguientes caracter\\xc3\\xadsticas.'], shape=(5,), dtype=string)\n",
            "\n",
            "tf.Tensor(\n",
            "[b'Alternatively, it may be preferable to use an operational amplifier configured as a voltage controlled current source, which can be set up to allow a high impedance voltage source, or signal, available from a digital to analogue converter (DAC) contained within a microprocessor 140 to control the level of current flowing through the solenoid or coil 730.'\n",
            " b'Mounted on the frame 20 is a tag-applying roller 23 which forms a nip with a roller 39 which is driven at line speed i.e. at a speed corresponding to the speed at which labels are passed through the apparatus.'\n",
            " b'It should be considered within the scope of the invention to have a separable part (144) which is a breakaway part or that an adhesive or some form of tenuous welding, such as by ultrasonics, could be used to temporarily connect the separable part with the needle holder.'\n",
            " b'The floater yarns are preferably arranged in the machine direction and serve to define a continuous planar surface above and parallel to the central plane of the fabric, and below and parallel to the plane defined by the surface floats.'\n",
            " b'Embodiments of the method may include at least some of the features described in the present disclosure, including one or more of the following features.'], shape=(5,), dtype=string)\n"
          ]
        }
      ],
      "source": [
        "for example_context_strings, example_target_strings in train_raw.take(1):\n",
        "  print(example_context_strings[:5])\n",
        "  print()\n",
        "  print(example_target_strings[:5])\n",
        "  break"
      ]
    },
    {
      "cell_type": "code",
      "execution_count": 17,
      "metadata": {
        "colab": {
          "base_uri": "https://localhost:8080/"
        },
        "id": "h9k8puYGrWP5",
        "outputId": "d164479e-8bd3-4932-d305-88431df85ab8"
      },
      "outputs": [
        {
          "output_type": "stream",
          "name": "stdout",
          "text": [
            "b'\\xc2\\xbfTodav\\xc3\\xada est\\xc3\\xa1 en casa?'\n",
            "b'\\xc2\\xbfTodavi\\xcc\\x81a esta\\xcc\\x81 en casa?'\n"
          ]
        }
      ],
      "source": [
        "example_text = tf.constant('¿Todavía está en casa?')\n",
        "\n",
        "print(example_text.numpy())\n",
        "print(tf_text.normalize_utf8(example_text, 'NFKD').numpy())"
      ]
    },
    {
      "cell_type": "code",
      "execution_count": 18,
      "metadata": {
        "id": "MmkMzryOrdXm"
      },
      "outputs": [],
      "source": [
        "def tf_lower_and_split_punct(text):\n",
        "    # Split accented characters.\n",
        "    text = tf_text.normalize_utf8(text, 'NFKD')\n",
        "    text = tf.strings.lower(text)\n",
        "    # Keep space, a to z, and select punctuation.\n",
        "    text = tf.strings.regex_replace(text, '[^ a-z.?!,¿]', '')\n",
        "    # Add spaces around punctuation.\n",
        "    text = tf.strings.regex_replace(text, '[.?!,¿]', r' \\0 ')\n",
        "    # Strip whitespace.\n",
        "    text = tf.strings.strip(text)\n",
        "\n",
        "    text = tf.strings.join(['[START]', text, '[END]'], separator=' ')\n",
        "    return text"
      ]
    },
    {
      "cell_type": "code",
      "execution_count": 19,
      "metadata": {
        "colab": {
          "base_uri": "https://localhost:8080/"
        },
        "id": "aZWFRr_srfPa",
        "outputId": "453a2d29-d348-46b1-ed62-aa4ba83ed80a"
      },
      "outputs": [
        {
          "output_type": "stream",
          "name": "stdout",
          "text": [
            "¿Todavía está en casa?\n",
            "[START] ¿ todavia esta en casa ? [END]\n"
          ]
        }
      ],
      "source": [
        "print(example_text.numpy().decode())\n",
        "print(tf_lower_and_split_punct(example_text).numpy().decode())"
      ]
    },
    {
      "cell_type": "code",
      "execution_count": 20,
      "metadata": {
        "id": "t_ZBi2yWrl5c"
      },
      "outputs": [],
      "source": [
        "max_vocab_size = 6000\n",
        "\n",
        "context_text_processor = tf.keras.layers.TextVectorization(\n",
        "    standardize=tf_lower_and_split_punct,\n",
        "    max_tokens=max_vocab_size,\n",
        "    ragged=True)"
      ]
    },
    {
      "cell_type": "code",
      "execution_count": 21,
      "metadata": {
        "colab": {
          "base_uri": "https://localhost:8080/"
        },
        "id": "4tKZ9LrUrsoc",
        "outputId": "58476f89-bb7a-4e44-9df7-06da98f4b1f2"
      },
      "outputs": [
        {
          "output_type": "stream",
          "name": "stderr",
          "text": [
            "WARNING:tensorflow:From /usr/local/lib/python3.9/dist-packages/tensorflow/python/autograph/pyct/static_analysis/liveness.py:83: Analyzer.lamba_check (from tensorflow.python.autograph.pyct.static_analysis.liveness) is deprecated and will be removed after 2023-09-23.\n",
            "Instructions for updating:\n",
            "Lambda fuctions will be no more assumed to be used in the statement where they are used, or at least in the same block. https://github.com/tensorflow/tensorflow/issues/56089\n"
          ]
        },
        {
          "output_type": "execute_result",
          "data": {
            "text/plain": [
              "['', '[UNK]', 'de', ',', 'la', '.', '[START]', '[END]', 'en', 'el']"
            ]
          },
          "metadata": {},
          "execution_count": 21
        }
      ],
      "source": [
        "context_text_processor.adapt(train_raw.map(lambda context, target: context))\n",
        "\n",
        "# Here are the first 10 words from the vocabulary:\n",
        "context_text_processor.get_vocabulary()[:10]"
      ]
    },
    {
      "cell_type": "code",
      "execution_count": 22,
      "metadata": {
        "colab": {
          "base_uri": "https://localhost:8080/"
        },
        "id": "AFLy3aTYrzT3",
        "outputId": "8cce9457-a1b3-459e-faa1-bcb66a44d691"
      },
      "outputs": [
        {
          "output_type": "execute_result",
          "data": {
            "text/plain": [
              "['', '[UNK]', 'the', ',', '.', 'of', '[START]', '[END]', 'a', 'to']"
            ]
          },
          "metadata": {},
          "execution_count": 22
        }
      ],
      "source": [
        "target_text_processor = tf.keras.layers.TextVectorization(\n",
        "    standardize=tf_lower_and_split_punct,\n",
        "    max_tokens=max_vocab_size,\n",
        "    ragged=True)\n",
        "\n",
        "target_text_processor.adapt(train_raw.map(lambda context, target: target))\n",
        "target_text_processor.get_vocabulary()[:10]"
      ]
    },
    {
      "cell_type": "code",
      "execution_count": 23,
      "metadata": {
        "colab": {
          "base_uri": "https://localhost:8080/"
        },
        "id": "O4yoc6igr9Ht",
        "outputId": "f1f1affc-f502-4a27-cedd-e15b22f7d207"
      },
      "outputs": [
        {
          "output_type": "execute_result",
          "data": {
            "text/plain": [
              "<tf.RaggedTensor [[6, 24, 627, 3, 26, 38, 1125, 342, 12, 2707, 2293, 808, 24, 15, 361, 2,\n",
              "  227, 1531, 21, 486, 3, 13, 26, 3607, 19, 553, 13, 15, 361, 3, 20, 125, 3,\n",
              "  2, 486, 2, 249, 3121, 936, 14, 148, 2, 12, 1, 2, 1266, 14, 1, 1, 247, 106,\n",
              "  2, 12, 3204, 1, 9, 248, 2, 227, 13, 1778, 14, 79, 16, 3692, 20, 1170, 5,\n",
              "  7]                                                                        ,\n",
              " [6, 54, 9, 860, 28, 1230, 1, 2, 343, 2, 2589, 3, 9, 155, 34, 1, 2, 2008,\n",
              "  18, 12, 773, 13, 23, 2757, 14, 5104, 2, 4, 239, 3, 23, 202, 3, 14, 15,\n",
              "  229, 13, 11, 1, 4, 229, 14, 4, 155, 41, 3614, 1291, 17, 1, 14, 1, 152, 5,\n",
              "  7]                                                                       ,\n",
              " [6, 333, 3670, 106, 1, 2, 4, 30, 311, 15, 47, 5728, 13, 225, 5798, 1, 20,\n",
              "  13, 603, 536, 12, 861, 20, 1950, 34, 1, 4286, 3, 44, 24, 1, 3, 19, 1861,\n",
              "  1, 47, 5728, 10, 9, 5739, 2074, 5, 7]                                   ]>"
            ]
          },
          "metadata": {},
          "execution_count": 23
        }
      ],
      "source": [
        "example_tokens = context_text_processor(example_context_strings)\n",
        "example_tokens[:3, :]"
      ]
    },
    {
      "cell_type": "code",
      "execution_count": 24,
      "metadata": {
        "colab": {
          "base_uri": "https://localhost:8080/",
          "height": 67
        },
        "id": "GU7rTp9-r_Kq",
        "outputId": "b3620757-b1e4-49dd-ed53-0a8754bae403"
      },
      "outputs": [
        {
          "output_type": "execute_result",
          "data": {
            "text/plain": [
              "'[START] como alternativa , puede ser preferible usar un amplificador operativo configurado como una fuente de corriente controlada por tension , que puede configurarse para permitir que una fuente , o senal , de tension de alta impedancia disponible a partir de un [UNK] de digital a [UNK] [UNK] contenido dentro de un microprocesador [UNK] el nivel de corriente que fluye a traves del solenoide o bobina . [END]'"
            ],
            "application/vnd.google.colaboratory.intrinsic+json": {
              "type": "string"
            }
          },
          "metadata": {},
          "execution_count": 24
        }
      ],
      "source": [
        "context_vocab = np.array(context_text_processor.get_vocabulary())\n",
        "tokens = context_vocab[example_tokens[0].numpy()]\n",
        "' '.join(tokens)"
      ]
    },
    {
      "cell_type": "code",
      "execution_count": 25,
      "metadata": {
        "colab": {
          "base_uri": "https://localhost:8080/",
          "height": 296
        },
        "id": "njG-wlCAsB4b",
        "outputId": "459418fd-d10f-4b1a-f8d1-d9b2884738f1"
      },
      "outputs": [
        {
          "output_type": "execute_result",
          "data": {
            "text/plain": [
              "Text(0.5, 1.0, 'Mask')"
            ]
          },
          "metadata": {},
          "execution_count": 25
        },
        {
          "output_type": "display_data",
          "data": {
            "text/plain": [
              "<Figure size 432x288 with 2 Axes>"
            ],
            "image/png": "[encoded data removed]"
          },
          "metadata": {
            "needs_background": "light"
          }
        }
      ],
      "source": [
        "plt.subplot(1, 2, 1)\n",
        "plt.pcolormesh(example_tokens.to_tensor())\n",
        "plt.title('Token IDs')\n",
        "\n",
        "plt.subplot(1, 2, 2)\n",
        "plt.pcolormesh(example_tokens.to_tensor() != 0)\n",
        "plt.title('Mask')"
      ]
    },
    {
      "cell_type": "code",
      "execution_count": 26,
      "metadata": {
        "id": "m2QfitrBsFW2"
      },
      "outputs": [],
      "source": [
        "def process_text(context, target):\n",
        "  context = context_text_processor(context).to_tensor()\n",
        "  target = target_text_processor(target)\n",
        "  targ_in = target[:,:-1].to_tensor()\n",
        "  targ_out = target[:,1:].to_tensor()\n",
        "  return (context, targ_in), targ_out\n",
        "\n",
        "\n",
        "train_ds = train_raw.map(process_text, tf.data.AUTOTUNE)\n",
        "val_ds = val_raw.map(process_text, tf.data.AUTOTUNE)"
      ]
    },
    {
      "cell_type": "code",
      "execution_count": 27,
      "metadata": {
        "colab": {
          "base_uri": "https://localhost:8080/"
        },
        "id": "PcuAcMhJsFVI",
        "outputId": "abb6847c-20b6-4209-b4df-e17b644e6281"
      },
      "outputs": [
        {
          "output_type": "stream",
          "name": "stdout",
          "text": [
            "[   6    9   87    2  411    2    1  395 3662    4]\n",
            "\n",
            "[   6    2   79    5  166    1  716 5234    2 1148]\n",
            "[   2   79    5  166    1  716 5234    2 1148    5]\n"
          ]
        }
      ],
      "source": [
        "for (ex_context_tok, ex_tar_in), ex_tar_out in train_ds.take(1):\n",
        "  print(ex_context_tok[0, :10].numpy()) \n",
        "  print()\n",
        "  print(ex_tar_in[0, :10].numpy()) \n",
        "  print(ex_tar_out[0, :10].numpy())"
      ]
    },
    {
      "cell_type": "code",
      "execution_count": 28,
      "metadata": {
        "id": "uvr-ykHLsPJ2"
      },
      "outputs": [],
      "source": [
        "UNITS = 256"
      ]
    },
    {
      "cell_type": "code",
      "execution_count": 29,
      "metadata": {
        "id": "3k0L61crsRwA"
      },
      "outputs": [],
      "source": [
        "class Encoder(tf.keras.layers.Layer):\n",
        "  def __init__(self, text_processor, units):\n",
        "    super(Encoder, self).__init__()\n",
        "    self.text_processor = text_processor\n",
        "    self.vocab_size = text_processor.vocabulary_size()\n",
        "    self.units = units\n",
        "\n",
        "    # The embedding layer converts tokens to vectors\n",
        "    self.embedding = tf.keras.layers.Embedding(self.vocab_size, units,\n",
        "                                               mask_zero=True)\n",
        "\n",
        "    # The RNN layer processes those vectors sequentially.\n",
        "    self.rnn = tf.keras.layers.Bidirectional(\n",
        "        merge_mode='sum',\n",
        "        layer=tf.keras.layers.GRU(units,\n",
        "                            # Return the sequence and state\n",
        "                            return_sequences=True,\n",
        "                            recurrent_initializer='glorot_uniform'))\n",
        "\n",
        "  def call(self, x):\n",
        "    shape_checker = ShapeChecker()\n",
        "    shape_checker(x, 'batch s')\n",
        "\n",
        "    # 2. The embedding layer looks up the embedding vector for each token.\n",
        "    x = self.embedding(x)\n",
        "    shape_checker(x, 'batch s units')\n",
        "\n",
        "    # 3. The GRU processes the sequence of embeddings.\n",
        "    x = self.rnn(x)\n",
        "    shape_checker(x, 'batch s units')\n",
        "\n",
        "    # 4. Returns the new sequence of embeddings.\n",
        "    return x\n",
        "\n",
        "  def convert_input(self, texts):\n",
        "    texts = tf.convert_to_tensor(texts)\n",
        "    if len(texts.shape) == 0:\n",
        "      texts = tf.convert_to_tensor(texts)[tf.newaxis]\n",
        "    context = self.text_processor(texts).to_tensor()\n",
        "    context = self(context)\n",
        "    return context"
      ]
    },
    {
      "cell_type": "code",
      "execution_count": 30,
      "metadata": {
        "colab": {
          "base_uri": "https://localhost:8080/"
        },
        "id": "4cqnG3KmsUef",
        "outputId": "069ab227-e53f-431e-8583-bd83d00c0ddb"
      },
      "outputs": [
        {
          "output_type": "stream",
          "name": "stdout",
          "text": [
            "Context tokens, shape (batch, s): (64, 94)\n",
            "Encoder output, shape (batch, s, units): (64, 94, 256)\n"
          ]
        }
      ],
      "source": [
        "# Encode the input sequence.\n",
        "encoder = Encoder(context_text_processor, UNITS)\n",
        "ex_context = encoder(ex_context_tok)\n",
        "\n",
        "print(f'Context tokens, shape (batch, s): {ex_context_tok.shape}')\n",
        "print(f'Encoder output, shape (batch, s, units): {ex_context.shape}')"
      ]
    },
    {
      "cell_type": "code",
      "execution_count": 31,
      "metadata": {
        "id": "0_2Ry4lCtUso"
      },
      "outputs": [],
      "source": [
        "class CrossAttention(tf.keras.layers.Layer):\n",
        "  def __init__(self, units, **kwargs):\n",
        "    super().__init__()\n",
        "    self.mha = tf.keras.layers.MultiHeadAttention(key_dim=units, num_heads=1, **kwargs)\n",
        "    self.layernorm = tf.keras.layers.LayerNormalization()\n",
        "    self.add = tf.keras.layers.Add()\n",
        "\n",
        "  def call(self, x, context):\n",
        "    shape_checker = ShapeChecker()\n",
        "\n",
        "    shape_checker(x, 'batch t units')\n",
        "    shape_checker(context, 'batch s units')\n",
        "\n",
        "    attn_output, attn_scores = self.mha(\n",
        "        query=x,\n",
        "        value=context,\n",
        "        return_attention_scores=True)\n",
        "\n",
        "    shape_checker(x, 'batch t units')\n",
        "    shape_checker(attn_scores, 'batch heads t s')\n",
        "\n",
        "    # Cache the attention scores for plotting later.\n",
        "    attn_scores = tf.reduce_mean(attn_scores, axis=1)\n",
        "    shape_checker(attn_scores, 'batch t s')\n",
        "    self.last_attention_weights = attn_scores\n",
        "\n",
        "    x = self.add([x, attn_output])\n",
        "    x = self.layernorm(x)\n",
        "\n",
        "    return x"
      ]
    },
    {
      "cell_type": "code",
      "execution_count": 32,
      "metadata": {
        "colab": {
          "base_uri": "https://localhost:8080/"
        },
        "id": "sdVRS_7dvHzR",
        "outputId": "d532fcf9-ddf4-41df-ffe9-741f50e6bd3a"
      },
      "outputs": [
        {
          "output_type": "stream",
          "name": "stdout",
          "text": [
            "Context sequence, shape (batch, s, units): (64, 94, 256)\n",
            "Target sequence, shape (batch, t, units): (64, 85, 256)\n",
            "Attention result, shape (batch, t, units): (64, 85, 256)\n",
            "Attention weights, shape (batch, t, s):    (64, 85, 94)\n"
          ]
        }
      ],
      "source": [
        "attention_layer = CrossAttention(UNITS)\n",
        "\n",
        "# Attend to the encoded tokens\n",
        "embed = tf.keras.layers.Embedding(target_text_processor.vocabulary_size(),\n",
        "                                  output_dim=UNITS, mask_zero=True)\n",
        "ex_tar_embed = embed(ex_tar_in)\n",
        "\n",
        "result = attention_layer(ex_tar_embed, ex_context)\n",
        "\n",
        "print(f'Context sequence, shape (batch, s, units): {ex_context.shape}')\n",
        "print(f'Target sequence, shape (batch, t, units): {ex_tar_embed.shape}')\n",
        "print(f'Attention result, shape (batch, t, units): {result.shape}')\n",
        "print(f'Attention weights, shape (batch, t, s):    {attention_layer.last_attention_weights.shape}')"
      ]
    },
    {
      "cell_type": "code",
      "execution_count": 33,
      "metadata": {
        "colab": {
          "base_uri": "https://localhost:8080/",
          "height": 280
        },
        "id": "0nywszOcvOhg",
        "outputId": "55e0ab3a-5c0b-4ce7-ce11-6b0fc9e284d9"
      },
      "outputs": [
        {
          "output_type": "display_data",
          "data": {
            "text/plain": [
              "<Figure size 432x288 with 2 Axes>"
            ],
            "image/png": "[encoded data removed]"
          },
          "metadata": {
            "needs_background": "light"
          }
        }
      ],
      "source": [
        "attention_weights = attention_layer.last_attention_weights\n",
        "mask=(ex_context_tok != 0).numpy()\n",
        "\n",
        "plt.subplot(1, 2, 1)\n",
        "plt.pcolormesh(mask*attention_weights[:, 0, :])\n",
        "plt.title('Attention weights')\n",
        "\n",
        "plt.subplot(1, 2, 2)\n",
        "plt.pcolormesh(mask)\n",
        "plt.title('Mask');\n"
      ]
    },
    {
      "cell_type": "code",
      "execution_count": 34,
      "metadata": {
        "id": "6chf6TbtvSMo"
      },
      "outputs": [],
      "source": [
        "class Decoder(tf.keras.layers.Layer):\n",
        "  @classmethod\n",
        "  def add_method(cls, fun):\n",
        "    setattr(cls, fun.__name__, fun)\n",
        "    return fun\n",
        "\n",
        "  def __init__(self, text_processor, units):\n",
        "    super(Decoder, self).__init__()\n",
        "    self.text_processor = text_processor\n",
        "    self.vocab_size = text_processor.vocabulary_size()\n",
        "    self.word_to_id = tf.keras.layers.StringLookup(\n",
        "        vocabulary=text_processor.get_vocabulary(),\n",
        "        mask_token='', oov_token='[UNK]')\n",
        "    self.id_to_word = tf.keras.layers.StringLookup(\n",
        "        vocabulary=text_processor.get_vocabulary(),\n",
        "        mask_token='', oov_token='[UNK]',\n",
        "        invert=True)\n",
        "    self.start_token = self.word_to_id('[START]')\n",
        "    self.end_token = self.word_to_id('[END]')\n",
        "\n",
        "    self.units = units\n",
        "\n",
        "\n",
        "    # 1. The embedding layer converts token IDs to vectors\n",
        "    self.embedding = tf.keras.layers.Embedding(self.vocab_size,\n",
        "                                               units, mask_zero=True)\n",
        "\n",
        "    # 2. The RNN keeps track of what's been generated so far.\n",
        "    self.rnn = tf.keras.layers.GRU(units,\n",
        "                                   return_sequences=True,\n",
        "                                   return_state=True,\n",
        "                                   recurrent_initializer='glorot_uniform')\n",
        "\n",
        "    # 3. The RNN output will be the query for the attention layer.\n",
        "    self.attention = CrossAttention(units)\n",
        "\n",
        "    # 4. This fully connected layer produces the logits for each\n",
        "    # output token.\n",
        "    self.output_layer = tf.keras.layers.Dense(self.vocab_size)"
      ]
    },
    {
      "cell_type": "code",
      "execution_count": 35,
      "metadata": {
        "id": "IHyjN0MUvUoA"
      },
      "outputs": [],
      "source": [
        "@Decoder.add_method\n",
        "def call(self,\n",
        "         context, x,\n",
        "         state=None,\n",
        "         return_state=False):  \n",
        "  shape_checker = ShapeChecker()\n",
        "  shape_checker(x, 'batch t')\n",
        "  shape_checker(context, 'batch s units')\n",
        "\n",
        "  # 1. Lookup the embeddings\n",
        "  x = self.embedding(x)\n",
        "  shape_checker(x, 'batch t units')\n",
        "\n",
        "  # 2. Process the target sequence.\n",
        "  x, state = self.rnn(x, initial_state=state)\n",
        "  shape_checker(x, 'batch t units')\n",
        "\n",
        "  # 3. Use the RNN output as the query for the attention over the context.\n",
        "  x = self.attention(x, context)\n",
        "  self.last_attention_weights = self.attention.last_attention_weights\n",
        "  shape_checker(x, 'batch t units')\n",
        "  shape_checker(self.last_attention_weights, 'batch t s')\n",
        "\n",
        "  # Step 4. Generate logit predictions for the next token.\n",
        "  logits = self.output_layer(x)\n",
        "  shape_checker(logits, 'batch t target_vocab_size')\n",
        "\n",
        "  if return_state:\n",
        "    return logits, state\n",
        "  else:\n",
        "    return logits"
      ]
    },
    {
      "cell_type": "code",
      "execution_count": 36,
      "metadata": {
        "id": "PmVG-xn1vW2t"
      },
      "outputs": [],
      "source": [
        "decoder = Decoder(target_text_processor, UNITS)"
      ]
    },
    {
      "cell_type": "code",
      "execution_count": 37,
      "metadata": {
        "colab": {
          "base_uri": "https://localhost:8080/"
        },
        "id": "2hFd2il1vYpi",
        "outputId": "defbad47-c3cb-4e7e-a429-744815a44fe4"
      },
      "outputs": [
        {
          "output_type": "stream",
          "name": "stdout",
          "text": [
            "encoder output shape: (batch, s, units) (64, 94, 256)\n",
            "input target tokens shape: (batch, t) (64, 85)\n",
            "logits shape shape: (batch, target_vocabulary_size) (64, 85, 6000)\n"
          ]
        }
      ],
      "source": [
        "logits = decoder(ex_context, ex_tar_in)\n",
        "\n",
        "print(f'encoder output shape: (batch, s, units) {ex_context.shape}')\n",
        "print(f'input target tokens shape: (batch, t) {ex_tar_in.shape}')\n",
        "print(f'logits shape shape: (batch, target_vocabulary_size) {logits.shape}')"
      ]
    },
    {
      "cell_type": "code",
      "execution_count": 38,
      "metadata": {
        "id": "99epuBe-vcQ1"
      },
      "outputs": [],
      "source": [
        "@Decoder.add_method\n",
        "def get_initial_state(self, context):\n",
        "  batch_size = tf.shape(context)[0]\n",
        "  start_tokens = tf.fill([batch_size, 1], self.start_token)\n",
        "  done = tf.zeros([batch_size, 1], dtype=tf.bool)\n",
        "  embedded = self.embedding(start_tokens)\n",
        "  return start_tokens, done, self.rnn.get_initial_state(embedded)[0]"
      ]
    },
    {
      "cell_type": "code",
      "execution_count": 39,
      "metadata": {
        "id": "-kar_v0kveBh"
      },
      "outputs": [],
      "source": [
        "@Decoder.add_method\n",
        "def tokens_to_text(self, tokens):\n",
        "  words = self.id_to_word(tokens)\n",
        "  result = tf.strings.reduce_join(words, axis=-1, separator=' ')\n",
        "  result = tf.strings.regex_replace(result, '^ *\\[START\\] *', '')\n",
        "  result = tf.strings.regex_replace(result, ' *\\[END\\] *$', '')\n",
        "  return result"
      ]
    },
    {
      "cell_type": "code",
      "execution_count": 40,
      "metadata": {
        "id": "WsCK4G1Hvf0M"
      },
      "outputs": [],
      "source": [
        "@Decoder.add_method\n",
        "def get_next_token(self, context, next_token, done, state, temperature = 0.0):\n",
        "  logits, state = self(\n",
        "    context, next_token,\n",
        "    state = state,\n",
        "    return_state=True) \n",
        "  \n",
        "  if temperature == 0.0:\n",
        "    next_token = tf.argmax(logits, axis=-1)\n",
        "  else:\n",
        "    logits = logits[:, -1, :]/temperature\n",
        "    next_token = tf.random.categorical(logits, num_samples=1)\n",
        "\n",
        "  # If a sequence produces an `end_token`, set it `done`\n",
        "  done = done | (next_token == self.end_token)\n",
        "  # Once a sequence is done it only produces 0-padding.\n",
        "  next_token = tf.where(done, tf.constant(0, dtype=tf.int64), next_token)\n",
        "  \n",
        "  return next_token, done, state"
      ]
    },
    {
      "cell_type": "code",
      "execution_count": 41,
      "metadata": {
        "colab": {
          "base_uri": "https://localhost:8080/"
        },
        "id": "-XAW4PNmvg0v",
        "outputId": "407b649e-3aeb-4a30-b059-53f6d310bcba"
      },
      "outputs": [
        {
          "output_type": "execute_result",
          "data": {
            "text/plain": [
              "array([b'inks balloon reconstituted enzymes vice w acute withstand liposome resilient',\n",
              "       b'pulmonary wearer centre gap brine on schematically vent celite nitrile',\n",
              "       b'th penetrating spherical rotates induced densities appended rf payment primary'],\n",
              "      dtype=object)"
            ]
          },
          "metadata": {},
          "execution_count": 41
        }
      ],
      "source": [
        "# Setup the loop variables.\n",
        "next_token, done, state = decoder.get_initial_state(ex_context)\n",
        "tokens = []\n",
        "\n",
        "for n in range(10):\n",
        "  # Run one step.\n",
        "  next_token, done, state = decoder.get_next_token(\n",
        "      ex_context, next_token, done, state, temperature=1.0)\n",
        "  # Add the token to the output.\n",
        "  tokens.append(next_token)\n",
        "\n",
        "# Stack all the tokens together.\n",
        "tokens = tf.concat(tokens, axis=-1) # (batch, t)\n",
        "\n",
        "# Convert the tokens back to a a string\n",
        "result = decoder.tokens_to_text(tokens)\n",
        "result[:3].numpy()"
      ]
    },
    {
      "cell_type": "code",
      "execution_count": 42,
      "metadata": {
        "id": "A4A-lYJbvpF5"
      },
      "outputs": [],
      "source": [
        "class Translator(tf.keras.Model):\n",
        "  @classmethod\n",
        "  def add_method(cls, fun):\n",
        "    setattr(cls, fun.__name__, fun)\n",
        "    return fun\n",
        "\n",
        "  def __init__(self, units,\n",
        "               context_text_processor,\n",
        "               target_text_processor):\n",
        "    super().__init__()\n",
        "    # Build the encoder and decoder\n",
        "    encoder = Encoder(context_text_processor, units)\n",
        "    decoder = Decoder(target_text_processor, units)\n",
        "\n",
        "    self.encoder = encoder\n",
        "    self.decoder = decoder\n",
        "\n",
        "  def call(self, inputs):\n",
        "    context, x = inputs\n",
        "    context = self.encoder(context)\n",
        "    logits = self.decoder(context, x)\n",
        "\n",
        "    #TODO(b/250038731): remove this\n",
        "    try:\n",
        "      # Delete the keras mask, so keras doesn't scale the loss+accuracy. \n",
        "      del logits._keras_mask\n",
        "    except AttributeError:\n",
        "      pass\n",
        "\n",
        "    return logits"
      ]
    },
    {
      "cell_type": "code",
      "execution_count": 43,
      "metadata": {
        "colab": {
          "base_uri": "https://localhost:8080/"
        },
        "id": "VOyL90RjvvHj",
        "outputId": "8e050e0b-a38c-47ab-a834-2f256bcd6900"
      },
      "outputs": [
        {
          "output_type": "stream",
          "name": "stdout",
          "text": [
            "Context tokens, shape: (batch, s, units) (64, 94)\n",
            "Target tokens, shape: (batch, t) (64, 85)\n",
            "logits, shape: (batch, t, target_vocabulary_size) (64, 85, 6000)\n"
          ]
        }
      ],
      "source": [
        "model = Translator(UNITS, context_text_processor, target_text_processor)\n",
        "\n",
        "logits = model((ex_context_tok, ex_tar_in))\n",
        "\n",
        "print(f'Context tokens, shape: (batch, s, units) {ex_context_tok.shape}')\n",
        "print(f'Target tokens, shape: (batch, t) {ex_tar_in.shape}')\n",
        "print(f'logits, shape: (batch, t, target_vocabulary_size) {logits.shape}')"
      ]
    },
    {
      "cell_type": "code",
      "execution_count": 44,
      "metadata": {
        "id": "yWKoBR3bvyZs"
      },
      "outputs": [],
      "source": [
        "def masked_loss(y_true, y_pred):\n",
        "    # Calculate the loss for each item in the batch.\n",
        "    loss_fn = tf.keras.losses.SparseCategoricalCrossentropy(\n",
        "        from_logits=True, reduction='none')\n",
        "    loss = loss_fn(y_true, y_pred)\n",
        "\n",
        "    # Mask off the losses on padding.\n",
        "    mask = tf.cast(y_true != 0, loss.dtype)\n",
        "    loss *= mask\n",
        "\n",
        "    # Return the total.\n",
        "    return tf.reduce_sum(loss)/tf.reduce_sum(mask)"
      ]
    },
    {
      "cell_type": "code",
      "execution_count": 45,
      "metadata": {
        "id": "A3ID5vwMv1Dv"
      },
      "outputs": [],
      "source": [
        "def masked_acc(y_true, y_pred):\n",
        "    # Calculate the loss for each item in the batch.\n",
        "    y_pred = tf.argmax(y_pred, axis=-1)\n",
        "    y_pred = tf.cast(y_pred, y_true.dtype)\n",
        "    \n",
        "    match = tf.cast(y_true == y_pred, tf.float32)\n",
        "    mask = tf.cast(y_true != 0, tf.float32)\n",
        "    \n",
        "    return tf.reduce_sum(match)/tf.reduce_sum(mask)"
      ]
    },
    {
      "cell_type": "code",
      "execution_count": 46,
      "metadata": {
        "id": "V3EX1oisv2eX"
      },
      "outputs": [],
      "source": [
        "model.compile(optimizer='adam',\n",
        "              loss=masked_loss, \n",
        "              metrics=[masked_acc, masked_loss])"
      ]
    },
    {
      "cell_type": "code",
      "execution_count": 47,
      "metadata": {
        "colab": {
          "base_uri": "https://localhost:8080/"
        },
        "id": "FVldOPgyv3r_",
        "outputId": "9bb734fd-4c6c-4984-a941-25e2e70e59a9"
      },
      "outputs": [
        {
          "output_type": "execute_result",
          "data": {
            "text/plain": [
              "{'expected_loss': 8.699514, 'expected_acc': 0.00016666666666666666}"
            ]
          },
          "metadata": {},
          "execution_count": 47
        }
      ],
      "source": [
        "vocab_size = 1.0 * target_text_processor.vocabulary_size()\n",
        "\n",
        "{\"expected_loss\": tf.math.log(vocab_size).numpy(),\n",
        " \"expected_acc\": 1/vocab_size}"
      ]
    },
    {
      "cell_type": "code",
      "execution_count": 48,
      "metadata": {
        "colab": {
          "base_uri": "https://localhost:8080/"
        },
        "id": "FNtt5Xzuv5iP",
        "outputId": "a4e9eb20-78c0-4226-f9b0-d0f431a53621"
      },
      "outputs": [
        {
          "output_type": "stream",
          "name": "stdout",
          "text": [
            "20/20 [==============================] - 35s 1s/step - loss: 8.7106 - masked_acc: 0.0012 - masked_loss: 8.7106\n"
          ]
        },
        {
          "output_type": "execute_result",
          "data": {
            "text/plain": [
              "{'loss': 8.710596084594727,\n",
              " 'masked_acc': 0.001193295931443572,\n",
              " 'masked_loss': 8.710596084594727}"
            ]
          },
          "metadata": {},
          "execution_count": 48
        }
      ],
      "source": [
        "model.evaluate(val_ds, steps=20, return_dict=True)"
      ]
    },
    {
      "cell_type": "code",
      "execution_count": 49,
      "metadata": {
        "colab": {
          "base_uri": "https://localhost:8080/"
        },
        "id": "469fQLi1wAgV",
        "outputId": "e56f5e97-da34-4854-9da2-6823d8aa26cd"
      },
      "outputs": [
        {
          "output_type": "stream",
          "name": "stdout",
          "text": [
            "Epoch 1/100\n",
            "100/100 [==============================] - 343s 3s/step - loss: 5.9137 - masked_acc: 0.1352 - masked_loss: 5.9137 - val_loss: 5.1616 - val_masked_acc: 0.2304 - val_masked_loss: 5.1616\n",
            "Epoch 2/100\n",
            "100/100 [==============================] - 342s 3s/step - loss: 4.8197 - masked_acc: 0.2610 - masked_loss: 4.8197 - val_loss: 4.6194 - val_masked_acc: 0.2750 - val_masked_loss: 4.6194\n",
            "Epoch 3/100\n",
            "100/100 [==============================] - 338s 3s/step - loss: 4.4629 - masked_acc: 0.2902 - masked_loss: 4.4629 - val_loss: 4.3129 - val_masked_acc: 0.3001 - val_masked_loss: 4.3129\n",
            "Epoch 4/100\n",
            "100/100 [==============================] - 339s 3s/step - loss: 4.1810 - masked_acc: 0.3203 - masked_loss: 4.1810 - val_loss: 4.0410 - val_masked_acc: 0.3337 - val_masked_loss: 4.0410\n",
            "Epoch 5/100\n",
            "100/100 [==============================] - 354s 4s/step - loss: 3.8282 - masked_acc: 0.3646 - masked_loss: 3.8282 - val_loss: 3.6761 - val_masked_acc: 0.3865 - val_masked_loss: 3.6761\n",
            "Epoch 6/100\n",
            "100/100 [==============================] - 334s 3s/step - loss: 3.4956 - masked_acc: 0.4098 - masked_loss: 3.4956 - val_loss: 3.3661 - val_masked_acc: 0.4290 - val_masked_loss: 3.3661\n",
            "Epoch 7/100\n",
            "100/100 [==============================] - 336s 3s/step - loss: 3.2281 - masked_acc: 0.4448 - masked_loss: 3.2281 - val_loss: 3.1038 - val_masked_acc: 0.4596 - val_masked_loss: 3.1038\n",
            "Epoch 8/100\n",
            "100/100 [==============================] - 349s 4s/step - loss: 3.0241 - masked_acc: 0.4732 - masked_loss: 3.0241 - val_loss: 2.9185 - val_masked_acc: 0.4831 - val_masked_loss: 2.9185\n",
            "Epoch 9/100\n",
            "100/100 [==============================] - 343s 3s/step - loss: 2.8545 - masked_acc: 0.4950 - masked_loss: 2.8545 - val_loss: 2.7815 - val_masked_acc: 0.5106 - val_masked_loss: 2.7815\n",
            "Epoch 10/100\n",
            "100/100 [==============================] - 338s 3s/step - loss: 2.6660 - masked_acc: 0.5227 - masked_loss: 2.6660 - val_loss: 2.7013 - val_masked_acc: 0.5131 - val_masked_loss: 2.7013\n",
            "Epoch 11/100\n",
            "100/100 [==============================] - 333s 3s/step - loss: 2.5587 - masked_acc: 0.5353 - masked_loss: 2.5587 - val_loss: 2.4772 - val_masked_acc: 0.5483 - val_masked_loss: 2.4772\n",
            "Epoch 12/100\n",
            "100/100 [==============================] - 354s 4s/step - loss: 2.4767 - masked_acc: 0.5482 - masked_loss: 2.4767 - val_loss: 2.3992 - val_masked_acc: 0.5578 - val_masked_loss: 2.3992\n",
            "Epoch 13/100\n",
            "100/100 [==============================] - 358s 4s/step - loss: 2.3718 - masked_acc: 0.5656 - masked_loss: 2.3718 - val_loss: 2.3095 - val_masked_acc: 0.5747 - val_masked_loss: 2.3095\n",
            "Epoch 14/100\n",
            "100/100 [==============================] - 348s 3s/step - loss: 2.3083 - masked_acc: 0.5746 - masked_loss: 2.3083 - val_loss: 2.2824 - val_masked_acc: 0.5770 - val_masked_loss: 2.2824\n",
            "Epoch 15/100\n",
            "100/100 [==============================] - 346s 3s/step - loss: 2.2806 - masked_acc: 0.5784 - masked_loss: 2.2806 - val_loss: 2.2249 - val_masked_acc: 0.5888 - val_masked_loss: 2.2249\n",
            "Epoch 16/100\n",
            "100/100 [==============================] - 350s 4s/step - loss: 2.2399 - masked_acc: 0.5839 - masked_loss: 2.2399 - val_loss: 2.1922 - val_masked_acc: 0.5911 - val_masked_loss: 2.1922\n",
            "Epoch 17/100\n",
            "100/100 [==============================] - 340s 3s/step - loss: 2.1723 - masked_acc: 0.5947 - masked_loss: 2.1723 - val_loss: 2.1976 - val_masked_acc: 0.5903 - val_masked_loss: 2.1976\n",
            "Epoch 18/100\n",
            "100/100 [==============================] - 338s 3s/step - loss: 2.1138 - masked_acc: 0.6030 - masked_loss: 2.1138 - val_loss: 2.0796 - val_masked_acc: 0.6082 - val_masked_loss: 2.0796\n",
            "Epoch 19/100\n",
            "100/100 [==============================] - 344s 3s/step - loss: 2.0893 - masked_acc: 0.6064 - masked_loss: 2.0893 - val_loss: 2.0793 - val_masked_acc: 0.6082 - val_masked_loss: 2.0793\n",
            "Epoch 20/100\n",
            "100/100 [==============================] - 344s 3s/step - loss: 2.0644 - masked_acc: 0.6096 - masked_loss: 2.0644 - val_loss: 2.0456 - val_masked_acc: 0.6141 - val_masked_loss: 2.0456\n",
            "Epoch 21/100\n",
            "100/100 [==============================] - 346s 3s/step - loss: 2.0384 - masked_acc: 0.6124 - masked_loss: 2.0384 - val_loss: 2.0353 - val_masked_acc: 0.6149 - val_masked_loss: 2.0353\n",
            "Epoch 22/100\n",
            "100/100 [==============================] - 339s 3s/step - loss: 2.0018 - masked_acc: 0.6222 - masked_loss: 2.0018 - val_loss: 1.9968 - val_masked_acc: 0.6214 - val_masked_loss: 1.9968\n",
            "Epoch 23/100\n",
            "100/100 [==============================] - 339s 3s/step - loss: 1.9968 - masked_acc: 0.6219 - masked_loss: 1.9968 - val_loss: 1.9349 - val_masked_acc: 0.6277 - val_masked_loss: 1.9349\n",
            "Epoch 24/100\n",
            "100/100 [==============================] - 351s 4s/step - loss: 1.9640 - masked_acc: 0.6249 - masked_loss: 1.9640 - val_loss: 2.0070 - val_masked_acc: 0.6166 - val_masked_loss: 2.0070\n",
            "Epoch 25/100\n",
            "100/100 [==============================] - 336s 3s/step - loss: 1.9562 - masked_acc: 0.6247 - masked_loss: 1.9562 - val_loss: 1.9334 - val_masked_acc: 0.6313 - val_masked_loss: 1.9334\n",
            "Epoch 26/100\n",
            "100/100 [==============================] - 319s 3s/step - loss: 1.9367 - masked_acc: 0.6292 - masked_loss: 1.9367 - val_loss: 1.9434 - val_masked_acc: 0.6274 - val_masked_loss: 1.9434\n",
            "Epoch 27/100\n",
            "100/100 [==============================] - 343s 3s/step - loss: 1.9052 - masked_acc: 0.6339 - masked_loss: 1.9052 - val_loss: 1.8857 - val_masked_acc: 0.6389 - val_masked_loss: 1.8857\n",
            "Epoch 28/100\n",
            "100/100 [==============================] - 341s 3s/step - loss: 1.9118 - masked_acc: 0.6329 - masked_loss: 1.9118 - val_loss: 1.8865 - val_masked_acc: 0.6402 - val_masked_loss: 1.8865\n",
            "Epoch 29/100\n",
            "100/100 [==============================] - 322s 3s/step - loss: 1.8839 - masked_acc: 0.6372 - masked_loss: 1.8839 - val_loss: 1.8529 - val_masked_acc: 0.6405 - val_masked_loss: 1.8529\n",
            "Epoch 30/100\n",
            "100/100 [==============================] - 339s 3s/step - loss: 1.8671 - masked_acc: 0.6403 - masked_loss: 1.8671 - val_loss: 1.8800 - val_masked_acc: 0.6359 - val_masked_loss: 1.8800\n",
            "Epoch 31/100\n",
            "100/100 [==============================] - 349s 3s/step - loss: 1.8616 - masked_acc: 0.6418 - masked_loss: 1.8616 - val_loss: 1.8472 - val_masked_acc: 0.6432 - val_masked_loss: 1.8472\n",
            "Epoch 32/100\n",
            "100/100 [==============================] - 328s 3s/step - loss: 1.8452 - masked_acc: 0.6428 - masked_loss: 1.8452 - val_loss: 1.8224 - val_masked_acc: 0.6471 - val_masked_loss: 1.8224\n",
            "Epoch 33/100\n",
            "100/100 [==============================] - 353s 4s/step - loss: 1.8284 - masked_acc: 0.6448 - masked_loss: 1.8284 - val_loss: 1.8099 - val_masked_acc: 0.6487 - val_masked_loss: 1.8099\n",
            "Epoch 34/100\n",
            "100/100 [==============================] - 351s 4s/step - loss: 1.8427 - masked_acc: 0.6434 - masked_loss: 1.8427 - val_loss: 1.8706 - val_masked_acc: 0.6398 - val_masked_loss: 1.8706\n",
            "Epoch 35/100\n",
            "100/100 [==============================] - 336s 3s/step - loss: 1.8143 - masked_acc: 0.6471 - masked_loss: 1.8143 - val_loss: 1.8390 - val_masked_acc: 0.6430 - val_masked_loss: 1.8390\n",
            "Epoch 36/100\n",
            "100/100 [==============================] - 347s 3s/step - loss: 1.8000 - masked_acc: 0.6497 - masked_loss: 1.8000 - val_loss: 1.7982 - val_masked_acc: 0.6490 - val_masked_loss: 1.7982\n",
            "Epoch 37/100\n",
            "100/100 [==============================] - 344s 3s/step - loss: 1.7872 - masked_acc: 0.6514 - masked_loss: 1.7872 - val_loss: 1.7714 - val_masked_acc: 0.6560 - val_masked_loss: 1.7714\n",
            "Epoch 38/100\n",
            "100/100 [==============================] - 345s 3s/step - loss: 1.8002 - masked_acc: 0.6496 - masked_loss: 1.8002 - val_loss: 1.8490 - val_masked_acc: 0.6383 - val_masked_loss: 1.8490\n",
            "Epoch 39/100\n",
            "100/100 [==============================] - 352s 4s/step - loss: 1.7710 - masked_acc: 0.6549 - masked_loss: 1.7710 - val_loss: 1.7508 - val_masked_acc: 0.6600 - val_masked_loss: 1.7508\n",
            "Epoch 40/100\n",
            "100/100 [==============================] - 343s 3s/step - loss: 1.8030 - masked_acc: 0.6509 - masked_loss: 1.8030 - val_loss: 1.7742 - val_masked_acc: 0.6513 - val_masked_loss: 1.7742\n",
            "Epoch 41/100\n",
            "100/100 [==============================] - 355s 4s/step - loss: 1.7615 - masked_acc: 0.6557 - masked_loss: 1.7615 - val_loss: 1.7613 - val_masked_acc: 0.6573 - val_masked_loss: 1.7613\n",
            "Epoch 42/100\n",
            "100/100 [==============================] - 323s 3s/step - loss: 1.7373 - masked_acc: 0.6593 - masked_loss: 1.7373 - val_loss: 1.7519 - val_masked_acc: 0.6556 - val_masked_loss: 1.7519\n"
          ]
        }
      ],
      "source": [
        "history = model.fit(\n",
        "    train_ds.repeat(), \n",
        "    epochs=100,\n",
        "    steps_per_epoch = 100,\n",
        "    validation_data=val_ds,\n",
        "    validation_steps = 20,\n",
        "    callbacks=[\n",
        "        tf.keras.callbacks.EarlyStopping(patience=3)])"
      ]
    },
    {
      "cell_type": "code",
      "execution_count": 50,
      "metadata": {
        "id": "BN_APJVk2xDz",
        "colab": {
          "base_uri": "https://localhost:8080/",
          "height": 295
        },
        "outputId": "4917cd68-c7b0-4968-e38f-998d3a3ac19d"
      },
      "outputs": [
        {
          "output_type": "execute_result",
          "data": {
            "text/plain": [
              "<matplotlib.legend.Legend at 0x7f6a88362ee0>"
            ]
          },
          "metadata": {},
          "execution_count": 50
        },
        {
          "output_type": "display_data",
          "data": {
            "text/plain": [
              "<Figure size 432x288 with 1 Axes>"
            ],
            "image/png": "[encoded data removed]"
          },
          "metadata": {
            "needs_background": "light"
          }
        }
      ],
      "source": [
        "plt.plot(history.history['loss'], label='loss')\n",
        "plt.plot(history.history['val_loss'], label='val_loss')\n",
        "plt.ylim([0, max(plt.ylim())])\n",
        "plt.xlabel('Epoch #')\n",
        "plt.ylabel('CE/token')\n",
        "plt.legend()"
      ]
    },
    {
      "cell_type": "code",
      "execution_count": 51,
      "metadata": {
        "id": "rpoBPFUn2506",
        "colab": {
          "base_uri": "https://localhost:8080/",
          "height": 295
        },
        "outputId": "7d53ecfa-1cb3-4943-ca1d-d5ea0e7b22dc"
      },
      "outputs": [
        {
          "output_type": "execute_result",
          "data": {
            "text/plain": [
              "<matplotlib.legend.Legend at 0x7f6a98c95e80>"
            ]
          },
          "metadata": {},
          "execution_count": 51
        },
        {
          "output_type": "display_data",
          "data": {
            "text/plain": [
              "<Figure size 432x288 with 1 Axes>"
            ],
            "image/png": "[encoded data removed]"
          },
          "metadata": {
            "needs_background": "light"
          }
        }
      ],
      "source": [
        "plt.plot(history.history['masked_acc'], label='accuracy')\n",
        "plt.plot(history.history['val_masked_acc'], label='val_accuracy')\n",
        "plt.ylim([0, max(plt.ylim())])\n",
        "plt.xlabel('Epoch #')\n",
        "plt.ylabel('CE/token')\n",
        "plt.legend()"
      ]
    },
    {
      "cell_type": "code",
      "execution_count": 52,
      "metadata": {
        "id": "y4LPJfTy3Ap7"
      },
      "outputs": [],
      "source": [
        "@Translator.add_method\n",
        "def translate(self,\n",
        "              texts, *,\n",
        "              max_length=50,\n",
        "              temperature=0.0):\n",
        "  # Process the input texts\n",
        "  context = self.encoder.convert_input(texts)\n",
        "  batch_size = tf.shape(texts)[0]\n",
        "\n",
        "  # Setup the loop inputs\n",
        "  tokens = []\n",
        "  attention_weights = []\n",
        "  next_token, done, state = self.decoder.get_initial_state(context)\n",
        "\n",
        "  for _ in range(max_length):\n",
        "    # Generate the next token\n",
        "    next_token, done, state = self.decoder.get_next_token(\n",
        "        context, next_token, done,  state, temperature)\n",
        "        \n",
        "    # Collect the generated tokens\n",
        "    tokens.append(next_token)\n",
        "    attention_weights.append(self.decoder.last_attention_weights)\n",
        "    \n",
        "    if tf.executing_eagerly() and tf.reduce_all(done):\n",
        "      break\n",
        "\n",
        "  # Stack the lists of tokens and attention weights.\n",
        "  tokens = tf.concat(tokens, axis=-1)   # t*[(batch 1)] -> (batch, t)\n",
        "  self.last_attention_weights = tf.concat(attention_weights, axis=1)  # t*[(batch 1 s)] -> (batch, t s)\n",
        "\n",
        "  result = self.decoder.tokens_to_text(tokens)\n",
        "  return result"
      ]
    },
    {
      "cell_type": "code",
      "execution_count": 53,
      "metadata": {
        "id": "fDkePYZ93KUJ",
        "colab": {
          "base_uri": "https://localhost:8080/",
          "height": 34
        },
        "outputId": "def349f4-5a42-463e-e805-afd7b7b6c8f4"
      },
      "outputs": [
        {
          "output_type": "execute_result",
          "data": {
            "text/plain": [
              "'it is still in [UNK] [UNK] '"
            ],
            "application/vnd.google.colaboratory.intrinsic+json": {
              "type": "string"
            }
          },
          "metadata": {},
          "execution_count": 53
        }
      ],
      "source": [
        "result = model.translate(['¿Todavía está en casa?']) # Are you still home\n",
        "result[0].numpy().decode()"
      ]
    },
    {
      "cell_type": "code",
      "execution_count": 54,
      "metadata": {
        "id": "NPAeuuXX3QMr"
      },
      "outputs": [],
      "source": [
        "#@title\n",
        "@Translator.add_method\n",
        "def plot_attention(self, text, **kwargs):\n",
        "  assert isinstance(text, str)\n",
        "  output = self.translate([text], **kwargs)\n",
        "  output = output[0].numpy().decode()\n",
        "\n",
        "  attention = self.last_attention_weights[0]\n",
        "\n",
        "  context = tf_lower_and_split_punct(text)\n",
        "  context = context.numpy().decode().split()\n",
        "\n",
        "  output = tf_lower_and_split_punct(output)\n",
        "  output = output.numpy().decode().split()[1:]\n",
        "\n",
        "  fig = plt.figure(figsize=(10, 10))\n",
        "  ax = fig.add_subplot(1, 1, 1)\n",
        "\n",
        "  ax.matshow(attention, cmap='viridis', vmin=0.0)\n",
        "\n",
        "  fontdict = {'fontsize': 14}\n",
        "\n",
        "  ax.set_xticklabels([''] + context, fontdict=fontdict, rotation=90)\n",
        "  ax.set_yticklabels([''] + output, fontdict=fontdict)\n",
        "\n",
        "  ax.xaxis.set_major_locator(ticker.MultipleLocator(1))\n",
        "  ax.yaxis.set_major_locator(ticker.MultipleLocator(1))\n",
        "\n",
        "  ax.set_xlabel('Input text')\n",
        "  ax.set_ylabel('Output text')"
      ]
    },
    {
      "cell_type": "code",
      "execution_count": 55,
      "metadata": {
        "id": "TOcap6yA3SeQ",
        "colab": {
          "base_uri": "https://localhost:8080/",
          "height": 663
        },
        "outputId": "28651190-6868-499b-978a-914f6a51b378"
      },
      "outputs": [
        {
          "output_type": "stream",
          "name": "stderr",
          "text": [
            "<ipython-input-54-93059eaa9bfc>:23: UserWarning: FixedFormatter should only be used together with FixedLocator\n",
            "  ax.set_xticklabels([''] + context, fontdict=fontdict, rotation=90)\n",
            "<ipython-input-54-93059eaa9bfc>:24: UserWarning: FixedFormatter should only be used together with FixedLocator\n",
            "  ax.set_yticklabels([''] + output, fontdict=fontdict)\n"
          ]
        },
        {
          "output_type": "display_data",
          "data": {
            "text/plain": [
              "<Figure size 720x720 with 1 Axes>"
            ],
            "image/png": "[encoded data removed]"
          },
          "metadata": {
            "needs_background": "light"
          }
        }
      ],
      "source": [
        "model.plot_attention('¿Todavía está en casa?') # Are you still home"
      ]
    },
    {
      "cell_type": "code",
      "execution_count": 56,
      "metadata": {
        "id": "MVl3CSed3WNk",
        "colab": {
          "base_uri": "https://localhost:8080/",
          "height": 605
        },
        "outputId": "2f58b83b-1937-4be5-eafb-dbf26e068f99"
      },
      "outputs": [
        {
          "output_type": "stream",
          "name": "stderr",
          "text": [
            "<ipython-input-54-93059eaa9bfc>:23: UserWarning: FixedFormatter should only be used together with FixedLocator\n",
            "  ax.set_xticklabels([''] + context, fontdict=fontdict, rotation=90)\n",
            "<ipython-input-54-93059eaa9bfc>:24: UserWarning: FixedFormatter should only be used together with FixedLocator\n",
            "  ax.set_yticklabels([''] + output, fontdict=fontdict)\n"
          ]
        },
        {
          "output_type": "stream",
          "name": "stdout",
          "text": [
            "CPU times: user 231 ms, sys: 2.01 ms, total: 233 ms\n",
            "Wall time: 232 ms\n"
          ]
        },
        {
          "output_type": "display_data",
          "data": {
            "text/plain": [
              "<Figure size 720x720 with 1 Axes>"
            ],
            "image/png": "[encoded data removed]"
          },
          "metadata": {
            "needs_background": "light"
          }
        }
      ],
      "source": [
        "%%time\n",
        "# This is my life.\n",
        "model.plot_attention('Esta es mi vida.')"
      ]
    },
    {
      "cell_type": "code",
      "execution_count": 57,
      "metadata": {
        "id": "lRfE67ii3Zf_",
        "colab": {
          "base_uri": "https://localhost:8080/",
          "height": 591
        },
        "outputId": "21692074-fdbb-444b-fddd-61d5a404dbfe"
      },
      "outputs": [
        {
          "output_type": "stream",
          "name": "stderr",
          "text": [
            "<ipython-input-54-93059eaa9bfc>:23: UserWarning: FixedFormatter should only be used together with FixedLocator\n",
            "  ax.set_xticklabels([''] + context, fontdict=fontdict, rotation=90)\n",
            "<ipython-input-54-93059eaa9bfc>:24: UserWarning: FixedFormatter should only be used together with FixedLocator\n",
            "  ax.set_yticklabels([''] + output, fontdict=fontdict)\n"
          ]
        },
        {
          "output_type": "stream",
          "name": "stdout",
          "text": [
            "CPU times: user 197 ms, sys: 1.99 ms, total: 199 ms\n",
            "Wall time: 205 ms\n"
          ]
        },
        {
          "output_type": "display_data",
          "data": {
            "text/plain": [
              "<Figure size 720x720 with 1 Axes>"
            ],
            "image/png": "[encoded data removed]"
          },
          "metadata": {
            "needs_background": "light"
          }
        }
      ],
      "source": [
        "%%time\n",
        " # Try to find out.'\n",
        "model.plot_attention('Tratar de descubrir.')"
      ]
    },
    {
      "cell_type": "code",
      "execution_count": 58,
      "metadata": {
        "id": "NsOtKXn93dAM",
        "colab": {
          "base_uri": "https://localhost:8080/"
        },
        "outputId": "05798dff-a09d-47ef-e68c-506b73bd4865"
      },
      "outputs": [
        {
          "output_type": "stream",
          "name": "stdout",
          "text": [
            "Expected output:\n",
            " By using porous surfacing material, such as porous veils or peel\n",
            "plies, resin may be injected into the fibres through the surfacing\n",
            "material, and this may be in addition to, or as an alternative to,\n",
            "central injection of resin into the fibres.\n"
          ]
        }
      ],
      "source": [
        "long_text = context_raw[-1]\n",
        "\n",
        "import textwrap\n",
        "print('Expected output:\\n', '\\n'.join(textwrap.wrap(target_raw[-1])))"
      ]
    },
    {
      "cell_type": "code",
      "execution_count": 59,
      "metadata": {
        "id": "76g-nq4B3hGs",
        "colab": {
          "base_uri": "https://localhost:8080/",
          "height": 698
        },
        "outputId": "8cf4c866-d9e5-4c3d-8a72-317caaec5407"
      },
      "outputs": [
        {
          "output_type": "stream",
          "name": "stderr",
          "text": [
            "<ipython-input-54-93059eaa9bfc>:23: UserWarning: FixedFormatter should only be used together with FixedLocator\n",
            "  ax.set_xticklabels([''] + context, fontdict=fontdict, rotation=90)\n",
            "<ipython-input-54-93059eaa9bfc>:24: UserWarning: FixedFormatter should only be used together with FixedLocator\n",
            "  ax.set_yticklabels([''] + output, fontdict=fontdict)\n"
          ]
        },
        {
          "output_type": "display_data",
          "data": {
            "text/plain": [
              "<Figure size 720x720 with 1 Axes>"
            ],
            "image/png": "[encoded data removed]"
          },
          "metadata": {
            "needs_background": "light"
          }
        }
      ],
      "source": [
        "model.plot_attention(long_text)"
      ]
    },
    {
      "cell_type": "code",
      "execution_count": 60,
      "metadata": {
        "id": "IiS2yt0D3q17"
      },
      "outputs": [],
      "source": [
        "inputs = [\n",
        "    'Hace mucho frio aqui.', # \"It's really cold here.\"\n",
        "    'Esta es mi vida.', # \"This is my life.\"\n",
        "    'Su cuarto es un desastre.', # \"His room is a mess\"\n",
        "    'Hola ¿Cómo estas?',\n",
        "    'El jueves estuve en Bogota, fue una gran experiencia.',\n",
        "    'Juan, Caleb y yo estuvimos nerviosos.',\n",
        "    \"Me gustaria saber como funcionas.\"\n",
        "]"
      ]
    },
    {
      "cell_type": "code",
      "execution_count": 61,
      "metadata": {
        "id": "o6DxP5eB3tGM",
        "colab": {
          "base_uri": "https://localhost:8080/"
        },
        "outputId": "dbe99018-abaa-47cb-feb1-c341ba6b34a5"
      },
      "outputs": [
        {
          "output_type": "stream",
          "name": "stdout",
          "text": [
            "cold spring is cold here . \n",
            "this is [UNK] . \n",
            "its fourth is a [UNK] . \n",
            "as these [UNK] are also provided in such a manner as well as the [UNK] \n",
            "the [UNK] [UNK] [UNK] was a great experience . \n",
            "[UNK] , [UNK] and [UNK] [UNK] . \n",
            "[UNK] [UNK] i as [UNK] . \n",
            "\n",
            "CPU times: user 2.07 s, sys: 22 ms, total: 2.09 s\n",
            "Wall time: 2.1 s\n"
          ]
        }
      ],
      "source": [
        "%%time\n",
        "for t in inputs:\n",
        "  print(model.translate([t])[0].numpy().decode())\n",
        "\n",
        "print()"
      ]
    }
  ],
  "metadata": {
    "colab": {
      "provenance": []
    },
    "kernelspec": {
      "display_name": "Python 3",
      "name": "python3"
    },
    "language_info": {
      "name": "python"
    }
  },
  "nbformat": 4,
  "nbformat_minor": 0
}